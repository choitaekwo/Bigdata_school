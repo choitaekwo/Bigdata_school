{
 "cells": [
  {
   "cell_type": "markdown",
   "metadata": {},
   "source": [
    "## Spark SQL 튜토리얼\n",
    "+ 데이터프레임 생성하기\n",
    "+ SQL 처리를 위한 Temporary View 생성\n",
    "+ 기본 SQL문 실습"
   ]
  },
  {
   "cell_type": "code",
   "execution_count": 23,
   "metadata": {},
   "outputs": [],
   "source": [
    "# SparkSession 임포트\n",
    "import findspark\n",
    "findspark.init()\n",
    "\n",
    "from pyspark.sql import SparkSession"
   ]
  },
  {
   "cell_type": "code",
   "execution_count": 24,
   "metadata": {},
   "outputs": [],
   "source": [
    "# SparkSession 설정하기\n",
    "spark = SparkSession.builder.master('local').appName('learn-sql').getOrCreate()"
   ]
  },
  {
   "cell_type": "markdown",
   "metadata": {},
   "source": [
    "### 1. 샘플 데이터셋: 주식 데이터\n",
    "+ 변수: 회사명(name), 종목코드(ticker), 상장국가(country), 주가(price), 통화(currency)\n",
    "+ 주가: Double 형식과 Long 형식이 섞이면 TypeError 발생하므로 Double(실수) 형태로 통일\n",
    "    + 예: 삼성 주가, 67300 -> 67300.0\n"
   ]
  },
  {
   "cell_type": "code",
   "execution_count": 25,
   "metadata": {},
   "outputs": [],
   "source": [
    "# 샘플 데이터셋\n",
    "\n",
    "stocks = [\n",
    "    ('Alphabet', 'GOOGL', 'USA', 2282.19, 'USD'), \n",
    "    ('Netflix', 'NFLX', 'USA', 190.36, 'USD'),\n",
    "    ('Amazon', 'AMZN', 'USA', 2485.63, 'USD'),\n",
    "    ('Tesla', 'TSLA', 'USA', 870.76, 'USD'),\n",
    "    ('HUYA', 'HUYA', 'USA', 4.13, 'USD'),\n",
    "    ('Tencent', '0700', 'Hong Kong', 377.4, 'HKD'),\n",
    "    ('Toyota', '7203', 'Japan', 2228.0, 'JPY'),\n",
    "    ('Samsung', '005930', 'Korea', 67300.0, 'KRW'),\n",
    "    ('Kakao', '035720', 'Korea', 87300.0, 'KRW'),\n",
    "    ('Com2uS', '078340', 'Korea', 95000.0, 'KRW')\n",
    "]"
   ]
  },
  {
   "cell_type": "code",
   "execution_count": 26,
   "metadata": {},
   "outputs": [],
   "source": [
    "# 스키마 정의: 데이터 타입은 자동으로 추론\n",
    "stockSchema = ['name', 'ticker', 'country', 'price', 'currency']"
   ]
  },
  {
   "cell_type": "code",
   "execution_count": 27,
   "metadata": {},
   "outputs": [],
   "source": [
    "# 데이터프레임 생성\n",
    "df = spark.createDataFrame(stocks, stockSchema)"
   ]
  },
  {
   "cell_type": "code",
   "execution_count": 28,
   "metadata": {},
   "outputs": [
    {
     "name": "stdout",
     "output_type": "stream",
     "text": [
      "root\n",
      " |-- name: string (nullable = true)\n",
      " |-- ticker: string (nullable = true)\n",
      " |-- country: string (nullable = true)\n",
      " |-- price: double (nullable = true)\n",
      " |-- currency: string (nullable = true)\n",
      "\n"
     ]
    }
   ],
   "source": [
    "# [+] 생성된 데이터프레임 스키마 확인\n",
    "df.printSchema()"
   ]
  },
  {
   "cell_type": "code",
   "execution_count": 29,
   "metadata": {},
   "outputs": [
    {
     "name": "stdout",
     "output_type": "stream",
     "text": [
      "+--------+------+---------+-------+--------+\n",
      "|    name|ticker|  country|  price|currency|\n",
      "+--------+------+---------+-------+--------+\n",
      "|Alphabet| GOOGL|      USA|2282.19|     USD|\n",
      "| Netflix|  NFLX|      USA| 190.36|     USD|\n",
      "|  Amazon|  AMZN|      USA|2485.63|     USD|\n",
      "|   Tesla|  TSLA|      USA| 870.76|     USD|\n",
      "|    HUYA|  HUYA|      USA|   4.13|     USD|\n",
      "| Tencent|  0700|Hong Kong|  377.4|     HKD|\n",
      "|  Toyota|  7203|    Japan| 2228.0|     JPY|\n",
      "| Samsung|005930|    Korea|67300.0|     KRW|\n",
      "|   Kakao|035720|    Korea|87300.0|     KRW|\n",
      "|  Com2uS|078340|    Korea|95000.0|     KRW|\n",
      "+--------+------+---------+-------+--------+\n",
      "\n"
     ]
    }
   ],
   "source": [
    "# [+] 데이터프레임 출력\n",
    "df.show()"
   ]
  },
  {
   "cell_type": "code",
   "execution_count": 30,
   "metadata": {},
   "outputs": [],
   "source": [
    "# Temporary View 생성\n",
    "df.createOrReplaceTempView('stocks')"
   ]
  },
  {
   "cell_type": "markdown",
   "metadata": {},
   "source": [
    "### 2. 기본 SQL 키워드\n",
    "+ ```SELECT```, ```FROM```\n",
    "+ ```WHERE```, ```AND```\n",
    "+ ```LIKE```, ```NOT LIKE```\n",
    "+ ```BETWEEN```\n",
    "+ ```ORDER BY```, ```DESC```, ```ASC```"
   ]
  },
  {
   "cell_type": "code",
   "execution_count": 31,
   "metadata": {},
   "outputs": [
    {
     "name": "stdout",
     "output_type": "stream",
     "text": [
      "+--------+\n",
      "|    name|\n",
      "+--------+\n",
      "|Alphabet|\n",
      "| Netflix|\n",
      "|  Amazon|\n",
      "|   Tesla|\n",
      "|    HUYA|\n",
      "| Tencent|\n",
      "|  Toyota|\n",
      "| Samsung|\n",
      "|   Kakao|\n",
      "|  Com2uS|\n",
      "+--------+\n",
      "\n"
     ]
    }
   ],
   "source": [
    "# SELECT 문: 하나의 컬럼을 선택(name)\n",
    "spark.sql(\"SELECT name FROM stocks\").show()"
   ]
  },
  {
   "cell_type": "code",
   "execution_count": 14,
   "metadata": {},
   "outputs": [
    {
     "name": "stdout",
     "output_type": "stream",
     "text": [
      "+--------+-------+\n",
      "|    name|  price|\n",
      "+--------+-------+\n",
      "|Alphabet|2282.19|\n",
      "| Netflix| 190.36|\n",
      "|  Amazon|2485.63|\n",
      "|   Tesla| 870.76|\n",
      "|    HUYA|   4.13|\n",
      "| Tencent|  377.4|\n",
      "|  Toyota| 2228.0|\n",
      "| Samsung|67300.0|\n",
      "|   Kakao|87300.0|\n",
      "|  Com2uS|95000.0|\n",
      "+--------+-------+\n",
      "\n"
     ]
    }
   ],
   "source": [
    "# SELECT 문: 여러 개의 컬럼을 선택(name, price)\n",
    "spark.sql(\"SELECT name, price FROM stocks\").show()"
   ]
  },
  {
   "cell_type": "code",
   "execution_count": 16,
   "metadata": {},
   "outputs": [
    {
     "name": "stdout",
     "output_type": "stream",
     "text": [
      "+-------+-------+\n",
      "|   name|  price|\n",
      "+-------+-------+\n",
      "|Samsung|67300.0|\n",
      "|  Kakao|87300.0|\n",
      "| Com2uS|95000.0|\n",
      "+-------+-------+\n",
      "\n"
     ]
    }
   ],
   "source": [
    "# SELECT 문: WHERE 조건을 만족하는 데이터 선택하기\n",
    "# 한국에 상장된 주식 선택(name, price)\n",
    "spark.sql(\"SELECT name, price FROM stocks WHERE country = 'Korea'\").show()"
   ]
  },
  {
   "cell_type": "code",
   "execution_count": 17,
   "metadata": {},
   "outputs": [
    {
     "name": "stdout",
     "output_type": "stream",
     "text": [
      "+--------+-------+\n",
      "|    name|  price|\n",
      "+--------+-------+\n",
      "|Alphabet|2282.19|\n",
      "|  Amazon|2485.63|\n",
      "|  Toyota| 2228.0|\n",
      "| Samsung|67300.0|\n",
      "|   Kakao|87300.0|\n",
      "|  Com2uS|95000.0|\n",
      "+--------+-------+\n",
      "\n"
     ]
    }
   ],
   "source": [
    "# [+] 주가 2000 이상의 주식 선택(name, price)\n",
    "spark.sql(\"SELECT name, price FROM stocks WHERE price >= 2000\").show()"
   ]
  },
  {
   "cell_type": "code",
   "execution_count": 18,
   "metadata": {},
   "outputs": [
    {
     "name": "stdout",
     "output_type": "stream",
     "text": [
      "+--------+------+-------+-------+--------+\n",
      "|    name|ticker|country|  price|currency|\n",
      "+--------+------+-------+-------+--------+\n",
      "|Alphabet| GOOGL|    USA|2282.19|     USD|\n",
      "|  Amazon|  AMZN|    USA|2485.63|     USD|\n",
      "+--------+------+-------+-------+--------+\n",
      "\n"
     ]
    }
   ],
   "source": [
    "# 주가가 2000 이상인 미국 주식 선택(* = 모든 컬럼, AND = 조건들을 논리곱으로 연결)\n",
    "spark.sql(\"SELECT * FROM stocks WHERE country = 'USA' AND price >= 2000\").show()"
   ]
  },
  {
   "cell_type": "code",
   "execution_count": 20,
   "metadata": {},
   "outputs": [
    {
     "name": "stdout",
     "output_type": "stream",
     "text": [
      "+-------+--------+-------+\n",
      "|country|    name|  price|\n",
      "+-------+--------+-------+\n",
      "|    USA|Alphabet|2282.19|\n",
      "|    USA| Netflix| 190.36|\n",
      "|    USA|  Amazon|2485.63|\n",
      "|    USA|   Tesla| 870.76|\n",
      "|    USA|    HUYA|   4.13|\n",
      "+-------+--------+-------+\n",
      "\n"
     ]
    }
   ],
   "source": [
    "# LIKE: 문자열 관련 처리할 때 유용\n",
    "# 상장 국가명이 'U'로 시작하는 주식 선택(country, name, price)   # \\ 로 여러 줄로 쓸 수 있음\n",
    "spark.sql(\"SELECT country, name, price FROM stocks \\\n",
    "            WHERE country LIKE 'U%'\").show()"
   ]
  },
  {
   "cell_type": "code",
   "execution_count": 21,
   "metadata": {},
   "outputs": [
    {
     "name": "stdout",
     "output_type": "stream",
     "text": [
      "+-------+------+-------+\n",
      "|country|  name|  price|\n",
      "+-------+------+-------+\n",
      "|    USA|Amazon|2485.63|\n",
      "|    USA|  HUYA|   4.13|\n",
      "+-------+------+-------+\n",
      "\n"
     ]
    }
   ],
   "source": [
    "# NOT LIKE\n",
    "# 상장국가명이 'U'로 시작하며, 회사명에 'e' 가 들어가지 않는 주식 선택(country, name, price)\n",
    "spark.sql(\"SELECT country, name, price FROM stocks \\\n",
    "            WHERE country LIKE 'U%' AND name NOT LIKE '%e%'\").show()"
   ]
  },
  {
   "cell_type": "code",
   "execution_count": 23,
   "metadata": {},
   "outputs": [
    {
     "name": "stdout",
     "output_type": "stream",
     "text": [
      "+--------+-------+\n",
      "|    name|  price|\n",
      "+--------+-------+\n",
      "|Alphabet|2282.19|\n",
      "|  Amazon|2485.63|\n",
      "|  Toyota| 2228.0|\n",
      "+--------+-------+\n",
      "\n"
     ]
    }
   ],
   "source": [
    "# BETWEEN\n",
    "# 주가가 1000~10000 사이인 주식 선택(name, price)\n",
    "spark.sql(\"SELECT name, price FROM stocks \\\n",
    "            WHERE price BETWEEN 1000 and 10000\").show()"
   ]
  },
  {
   "cell_type": "code",
   "execution_count": 24,
   "metadata": {},
   "outputs": [
    {
     "name": "stdout",
     "output_type": "stream",
     "text": [
      "+--------+-------+--------+\n",
      "|    name|  price|currency|\n",
      "+--------+-------+--------+\n",
      "|Alphabet|2282.19|     USD|\n",
      "|  Amazon|2485.63|     USD|\n",
      "+--------+-------+--------+\n",
      "\n"
     ]
    }
   ],
   "source": [
    "# 중첩된 SQL 문\n",
    "# 미국의 주식 중 Tesla 보다 주가가 높은 주식\n",
    "spark.sql(\"SELECT name, price, currency FROM stocks \\\n",
    "            WHERE currency = 'USD' AND \\\n",
    "            price > (SELECT price FROM stocks WHERE name = 'Tesla')\").show()"
   ]
  },
  {
   "cell_type": "code",
   "execution_count": 29,
   "metadata": {},
   "outputs": [
    {
     "name": "stdout",
     "output_type": "stream",
     "text": [
      "+--------+-------+\n",
      "|    name|  price|\n",
      "+--------+-------+\n",
      "|    HUYA|   4.13|\n",
      "| Netflix| 190.36|\n",
      "| Tencent|  377.4|\n",
      "|   Tesla| 870.76|\n",
      "|  Toyota| 2228.0|\n",
      "|Alphabet|2282.19|\n",
      "|  Amazon|2485.63|\n",
      "| Samsung|67300.0|\n",
      "|   Kakao|87300.0|\n",
      "|  Com2uS|95000.0|\n",
      "+--------+-------+\n",
      "\n"
     ]
    }
   ],
   "source": [
    "# ORDER BY\n",
    "# 주가를 기준으로 오름차순(ASC: Ascending) 정렬 \n",
    "spark.sql(\"SELECT name, price FROM stocks \\\n",
    "            ORDER BY price ASC\").show()"
   ]
  },
  {
   "cell_type": "code",
   "execution_count": 31,
   "metadata": {},
   "outputs": [
    {
     "name": "stdout",
     "output_type": "stream",
     "text": [
      "+--------+-------+\n",
      "|    name|  price|\n",
      "+--------+-------+\n",
      "|  Toyota| 2228.0|\n",
      "|   Tesla| 870.76|\n",
      "| Tencent|  377.4|\n",
      "| Samsung|67300.0|\n",
      "| Netflix| 190.36|\n",
      "|   Kakao|87300.0|\n",
      "|    HUYA|   4.13|\n",
      "|  Com2uS|95000.0|\n",
      "|  Amazon|2485.63|\n",
      "|Alphabet|2282.19|\n",
      "+--------+-------+\n",
      "\n"
     ]
    }
   ],
   "source": [
    "# [+] 이름을 기준으로 내림차순(DESC: Descending) 정렬\n",
    "spark.sql(\"SELECT name, price FROM stocks \\\n",
    "            ORDER BY name DESC\").show()"
   ]
  },
  {
   "cell_type": "code",
   "execution_count": 32,
   "metadata": {},
   "outputs": [
    {
     "name": "stdout",
     "output_type": "stream",
     "text": [
      "+----------+\n",
      "|sum(price)|\n",
      "+----------+\n",
      "|  249600.0|\n",
      "+----------+\n",
      "\n"
     ]
    }
   ],
   "source": [
    "# 집계 연산: 한국 주식의 주가 총합\n",
    "spark.sql(\"SELECT sum(price) FROM stocks \\\n",
    "            WHERE country = 'Korea'\").show()"
   ]
  },
  {
   "cell_type": "code",
   "execution_count": 33,
   "metadata": {},
   "outputs": [
    {
     "name": "stdout",
     "output_type": "stream",
     "text": [
      "+-----------+\n",
      "|mean(price)|\n",
      "+-----------+\n",
      "|    83200.0|\n",
      "+-----------+\n",
      "\n"
     ]
    }
   ],
   "source": [
    "# 집계 연산: 한국 주식의 주가 평균\n",
    "spark.sql(\"SELECT mean(price) FROM stocks \\\n",
    "            WHERE country = 'Korea'\").show()"
   ]
  },
  {
   "cell_type": "code",
   "execution_count": 34,
   "metadata": {},
   "outputs": [
    {
     "name": "stdout",
     "output_type": "stream",
     "text": [
      "+------------+\n",
      "|count(price)|\n",
      "+------------+\n",
      "|           3|\n",
      "+------------+\n",
      "\n"
     ]
    }
   ],
   "source": [
    "# 집계 연산: 한국 주식의 개수\n",
    "spark.sql(\"SELECT count(price) FROM stocks \\\n",
    "            WHERE country = 'Korea'\").show()"
   ]
  },
  {
   "cell_type": "code",
   "execution_count": 35,
   "metadata": {},
   "outputs": [
    {
     "name": "stdout",
     "output_type": "stream",
     "text": [
      "+-------+-------+---------+\n",
      "|   name|  price|  country|\n",
      "+-------+-------+---------+\n",
      "|Tencent|  377.4|Hong Kong|\n",
      "|Samsung|67300.0|    Korea|\n",
      "|  Kakao|87300.0|    Korea|\n",
      "| Com2uS|95000.0|    Korea|\n",
      "+-------+-------+---------+\n",
      "\n"
     ]
    }
   ],
   "source": [
    "# IN: WHERE절 내의 여러 개의 값을 선택\n",
    "spark.sql(\"SELECT name, price, country FROM stocks \\\n",
    "            WHERE country IN ('Korea', 'Hong Kong')\").show()"
   ]
  },
  {
   "cell_type": "markdown",
   "metadata": {},
   "source": [
    "### 2. 두 개의 데이터프레임을 이용한 SQL 문\n",
    "데이터베이스나 빅데이터 환경에서는 여러 개의 데이터 테이블들을 결합하여 query를 수행하는 경우가 빈번함\n",
    "SQL 문의 Join을 이용하여 stocks 와 earnings 데이터프레임을 결합하여 데이터 분석하기"
   ]
  },
  {
   "cell_type": "code",
   "execution_count": 5,
   "metadata": {},
   "outputs": [],
   "source": [
    "# earnings = EPS(earning per share): 주당 순이익, 전체 순이익을 전체 주식 수로 나눈 값\n",
    "\n",
    "earnings = [\n",
    "    ('Alphabet', 110.57, 'USD'), \n",
    "    ('Netflix', 10.46, 'USD'),\n",
    "    ('Amazon', 41.36, 'USD'),\n",
    "    ('Tesla', 7.4, 'USD'),\n",
    "    ('HUYA', 0.36, 'USD'),\n",
    "    ('Tencent', 27.6, 'HKD'),\n",
    "    ('Toyota', 221.35, 'JPY'),\n",
    "    ('Samsung', 5777.37, 'KRW'),\n",
    "    ('Kakao', 3150.95, 'KRW'),\n",
    "    ('Com2uS', 10852.69, 'KRW')\n",
    "]"
   ]
  },
  {
   "cell_type": "code",
   "execution_count": 4,
   "metadata": {},
   "outputs": [],
   "source": [
    "# 스키마 정의에 필요한 클래스 임포트하기\n",
    "from pyspark.sql.types import StructType, StructField, StringType, FloatType"
   ]
  },
  {
   "cell_type": "code",
   "execution_count": 34,
   "metadata": {},
   "outputs": [],
   "source": [
    "# 스키마 정의: 직접 데이터 타입 정하기\n",
    "earningsSchema = StructType([\n",
    "    StructField('name', StringType(), True),\n",
    "    StructField('eps', FloatType(), True),\n",
    "    StructField('currency', StringType(), True)\n",
    "])"
   ]
  },
  {
   "cell_type": "code",
   "execution_count": 36,
   "metadata": {},
   "outputs": [],
   "source": [
    "# [+] 데이터프레임 생성\n",
    "earningsDF = spark.createDataFrame(data = earnings, schema = earningsSchema)"
   ]
  },
  {
   "cell_type": "code",
   "execution_count": 37,
   "metadata": {},
   "outputs": [
    {
     "name": "stdout",
     "output_type": "stream",
     "text": [
      "root\n",
      " |-- name: string (nullable = true)\n",
      " |-- eps: float (nullable = true)\n",
      " |-- currency: string (nullable = true)\n",
      "\n"
     ]
    }
   ],
   "source": [
    "# [+] 데이터프레임 스키마 출력\n",
    "earningsDF.printSchema()"
   ]
  },
  {
   "cell_type": "code",
   "execution_count": 39,
   "metadata": {},
   "outputs": [],
   "source": [
    "# [+] earningDF의 Temporary View 생성\n",
    "earningsDF.createOrReplaceTempView('earnings')"
   ]
  },
  {
   "cell_type": "code",
   "execution_count": 40,
   "metadata": {},
   "outputs": [
    {
     "name": "stdout",
     "output_type": "stream",
     "text": [
      "+--------+--------+--------+\n",
      "|    name|     eps|currency|\n",
      "+--------+--------+--------+\n",
      "|Alphabet|  110.57|     USD|\n",
      "| Netflix|   10.46|     USD|\n",
      "|  Amazon|   41.36|     USD|\n",
      "|   Tesla|     7.4|     USD|\n",
      "|    HUYA|    0.36|     USD|\n",
      "| Tencent|    27.6|     HKD|\n",
      "|  Toyota|  221.35|     JPY|\n",
      "| Samsung| 5777.37|     KRW|\n",
      "|   Kakao| 3150.95|     KRW|\n",
      "|  Com2uS|10852.69|     KRW|\n",
      "+--------+--------+--------+\n",
      "\n"
     ]
    }
   ],
   "source": [
    "# 함수 형태로 query 수행하기, 예: select()\n",
    "# spark.sql(\"SELECT * FROM earnings\")\n",
    "earningsDF.select('*').show()"
   ]
  },
  {
   "cell_type": "code",
   "execution_count": 32,
   "metadata": {},
   "outputs": [
    {
     "name": "stdout",
     "output_type": "stream",
     "text": [
      "+--------+------+---------+-------+--------+--------+--------+--------+\n",
      "|    name|ticker|  country|  price|currency|    name|     eos|currency|\n",
      "+--------+------+---------+-------+--------+--------+--------+--------+\n",
      "|Alphabet| GOOGL|      USA|2282.19|     USD|Alphabet|  110.57|     USD|\n",
      "|  Amazon|  AMZN|      USA|2485.63|     USD|  Amazon|   41.36|     USD|\n",
      "|  Com2uS|078340|    Korea|95000.0|     KRW|  Com2uS|10852.69|     KRW|\n",
      "|    HUYA|  HUYA|      USA|   4.13|     USD|    HUYA|    0.36|     USD|\n",
      "|   Kakao|035720|    Korea|87300.0|     KRW|   Kakao| 3150.95|     KRW|\n",
      "| Netflix|  NFLX|      USA| 190.36|     USD| Netflix|   10.46|     USD|\n",
      "| Samsung|005930|    Korea|67300.0|     KRW| Samsung| 5777.37|     KRW|\n",
      "| Tencent|  0700|Hong Kong|  377.4|     HKD| Tencent|    27.6|     HKD|\n",
      "|   Tesla|  TSLA|      USA| 870.76|     USD|   Tesla|     7.4|     USD|\n",
      "|  Toyota|  7203|    Japan| 2228.0|     JPY|  Toyota|  221.35|     JPY|\n",
      "+--------+------+---------+-------+--------+--------+--------+--------+\n",
      "\n"
     ]
    }
   ],
   "source": [
    "# Inner join 수행\n",
    "spark.sql(\"SELECT * FROM stocks \\\n",
    "            JOIN earnings \\\n",
    "            ON stocks.name = earnings.name\").show()"
   ]
  },
  {
   "cell_type": "code",
   "execution_count": 42,
   "metadata": {},
   "outputs": [
    {
     "name": "stdout",
     "output_type": "stream",
     "text": [
      "+--------+------------------+\n",
      "|    name|     (price / eps)|\n",
      "+--------+------------------+\n",
      "|  Com2uS|  8.75358977716049|\n",
      "|  Toyota|10.065506837881282|\n",
      "|    HUYA|11.472221766357087|\n",
      "| Samsung|11.648898830245365|\n",
      "| Tencent|13.673912854486094|\n",
      "| Netflix| 18.19885270609645|\n",
      "|Alphabet| 20.64022796688883|\n",
      "|   Kakao|27.705930386971747|\n",
      "|  Amazon|60.097436250469926|\n",
      "|   Tesla|117.67026875379577|\n",
      "+--------+------------------+\n",
      "\n"
     ]
    }
   ],
   "source": [
    "# PER (Price/Earnings Ratio): 주가를 EPS로 나눈 값\n",
    "# PER 기준으로 가장 저평가된 주식 찾기\n",
    "spark.sql(\"SELECT stocks.name, (stocks.price / earnings.eps) \\\n",
    "            FROM stocks \\\n",
    "            JOIN earnings \\\n",
    "            ON stocks.name = earnings.name \\\n",
    "            ORDER BY (stocks.price / earnings.eps) ASC\").show()"
   ]
  }
 ],
 "metadata": {
  "kernelspec": {
   "display_name": "Python 3 (ipykernel)",
   "language": "python",
   "name": "python3"
  },
  "language_info": {
   "codemirror_mode": {
    "name": "ipython",
    "version": 3
   },
   "file_extension": ".py",
   "mimetype": "text/x-python",
   "name": "python",
   "nbconvert_exporter": "python",
   "pygments_lexer": "ipython3",
   "version": "3.9.13"
  }
 },
 "nbformat": 4,
 "nbformat_minor": 4
}
