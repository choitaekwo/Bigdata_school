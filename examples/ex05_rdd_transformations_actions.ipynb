{
 "cells": [
  {
   "cell_type": "markdown",
   "id": "5a3ccc65",
   "metadata": {},
   "source": [
    "### Spark 설정하기"
   ]
  },
  {
   "cell_type": "code",
   "execution_count": 18,
   "id": "e83e27ae",
   "metadata": {},
   "outputs": [],
   "source": [
    "# [+] SparkConf, SparkContext 임포트\n",
    "import findspark\n",
    "findspark.init()\n",
    "\n",
    "from pyspark import SparkConf, SparkContext"
   ]
  },
  {
   "cell_type": "code",
   "execution_count": 19,
   "id": "55cf7b7e",
   "metadata": {},
   "outputs": [],
   "source": [
    "\"\"\"\n",
    "    [+] SparkConf 객체 생성 및 설정\n",
    "    - setMaster(), 마스터 노드 위치: \"local\"\n",
    "    - 앱이름: \"transformations_actions\"\n",
    "\"\"\"\n",
    "\n",
    "conf = SparkConf().setMaster(\"local\").setAppName(\"transformations_actions\")"
   ]
  },
  {
   "cell_type": "code",
   "execution_count": 24,
   "id": "5ff5fcce",
   "metadata": {},
   "outputs": [],
   "source": [
    "# [+] SparkContext 객체 생성\n",
    "sc = SparkContext(conf = conf)"
   ]
  },
  {
   "cell_type": "code",
   "execution_count": 25,
   "id": "7f810188",
   "metadata": {},
   "outputs": [
    {
     "data": {
      "text/plain": [
       "[('spark.master', 'local'),\n",
       " ('spark.driver.extraJavaOptions',\n",
       "  '-XX:+IgnoreUnrecognizedVMOptions --add-opens=java.base/java.lang=ALL-UNNAMED --add-opens=java.base/java.lang.invoke=ALL-UNNAMED --add-opens=java.base/java.lang.reflect=ALL-UNNAMED --add-opens=java.base/java.io=ALL-UNNAMED --add-opens=java.base/java.net=ALL-UNNAMED --add-opens=java.base/java.nio=ALL-UNNAMED --add-opens=java.base/java.util=ALL-UNNAMED --add-opens=java.base/java.util.concurrent=ALL-UNNAMED --add-opens=java.base/java.util.concurrent.atomic=ALL-UNNAMED --add-opens=java.base/sun.nio.ch=ALL-UNNAMED --add-opens=java.base/sun.nio.cs=ALL-UNNAMED --add-opens=java.base/sun.security.action=ALL-UNNAMED --add-opens=java.base/sun.util.calendar=ALL-UNNAMED --add-opens=java.security.jgss/sun.security.krb5=ALL-UNNAMED'),\n",
       " ('spark.app.startTime', '1680178054101'),\n",
       " ('spark.app.submitTime', '1680176507059'),\n",
       " ('spark.executor.id', 'driver'),\n",
       " ('spark.app.name', 'transformations_actions'),\n",
       " ('spark.rdd.compress', 'True'),\n",
       " ('spark.app.id', 'local-1680178054199'),\n",
       " ('spark.executor.extraJavaOptions',\n",
       "  '-XX:+IgnoreUnrecognizedVMOptions --add-opens=java.base/java.lang=ALL-UNNAMED --add-opens=java.base/java.lang.invoke=ALL-UNNAMED --add-opens=java.base/java.lang.reflect=ALL-UNNAMED --add-opens=java.base/java.io=ALL-UNNAMED --add-opens=java.base/java.net=ALL-UNNAMED --add-opens=java.base/java.nio=ALL-UNNAMED --add-opens=java.base/java.util=ALL-UNNAMED --add-opens=java.base/java.util.concurrent=ALL-UNNAMED --add-opens=java.base/java.util.concurrent.atomic=ALL-UNNAMED --add-opens=java.base/sun.nio.ch=ALL-UNNAMED --add-opens=java.base/sun.nio.cs=ALL-UNNAMED --add-opens=java.base/sun.security.action=ALL-UNNAMED --add-opens=java.base/sun.util.calendar=ALL-UNNAMED --add-opens=java.security.jgss/sun.security.krb5=ALL-UNNAMED'),\n",
       " ('spark.serializer.objectStreamReset', '100'),\n",
       " ('spark.submit.pyFiles', ''),\n",
       " ('spark.submit.deployMode', 'client'),\n",
       " ('spark.ui.showConsoleProgress', 'true'),\n",
       " ('spark.driver.port', '61460'),\n",
       " ('spark.driver.host', 'TaekwonLaptop')]"
      ]
     },
     "execution_count": 25,
     "metadata": {},
     "output_type": "execute_result"
    }
   ],
   "source": [
    "# Spark 전체 설정 값 확인\n",
    "sc.getConf().getAll()"
   ]
  },
  {
   "cell_type": "code",
   "execution_count": 26,
   "id": "f32f186e",
   "metadata": {},
   "outputs": [
    {
     "ename": "ValueError",
     "evalue": "Cannot run multiple SparkContexts at once; existing SparkContext(app=transformations_actions, master=local) created by __init__ at C:\\Users\\midst\\AppData\\Local\\Temp\\ipykernel_7112\\3504930459.py:2 ",
     "output_type": "error",
     "traceback": [
      "\u001b[1;31m---------------------------------------------------------------------------\u001b[0m",
      "\u001b[1;31mValueError\u001b[0m                                Traceback (most recent call last)",
      "\u001b[1;32m~\\AppData\\Local\\Temp\\ipykernel_7112\\1903799829.py\u001b[0m in \u001b[0;36m<module>\u001b[1;34m\u001b[0m\n\u001b[0;32m      1\u001b[0m \u001b[1;31m# SpackContext 객체 하나 더 생성하기(과연?)\u001b[0m\u001b[1;33m\u001b[0m\u001b[1;33m\u001b[0m\u001b[0m\n\u001b[1;32m----> 2\u001b[1;33m \u001b[0msc\u001b[0m \u001b[1;33m=\u001b[0m \u001b[0mSparkContext\u001b[0m\u001b[1;33m(\u001b[0m\u001b[0mconf\u001b[0m \u001b[1;33m=\u001b[0m \u001b[0mconf\u001b[0m\u001b[1;33m)\u001b[0m\u001b[1;33m\u001b[0m\u001b[1;33m\u001b[0m\u001b[0m\n\u001b[0m",
      "\u001b[1;32mC:\\Dev\\Spark\\spark-3.3.2-bin-hadoop3\\python\\pyspark\\context.py\u001b[0m in \u001b[0;36m__init__\u001b[1;34m(self, master, appName, sparkHome, pyFiles, environment, batchSize, serializer, conf, gateway, jsc, profiler_cls, udf_profiler_cls)\u001b[0m\n\u001b[0;32m    193\u001b[0m             )\n\u001b[0;32m    194\u001b[0m \u001b[1;33m\u001b[0m\u001b[0m\n\u001b[1;32m--> 195\u001b[1;33m         \u001b[0mSparkContext\u001b[0m\u001b[1;33m.\u001b[0m\u001b[0m_ensure_initialized\u001b[0m\u001b[1;33m(\u001b[0m\u001b[0mself\u001b[0m\u001b[1;33m,\u001b[0m \u001b[0mgateway\u001b[0m\u001b[1;33m=\u001b[0m\u001b[0mgateway\u001b[0m\u001b[1;33m,\u001b[0m \u001b[0mconf\u001b[0m\u001b[1;33m=\u001b[0m\u001b[0mconf\u001b[0m\u001b[1;33m)\u001b[0m\u001b[1;33m\u001b[0m\u001b[1;33m\u001b[0m\u001b[0m\n\u001b[0m\u001b[0;32m    196\u001b[0m         \u001b[1;32mtry\u001b[0m\u001b[1;33m:\u001b[0m\u001b[1;33m\u001b[0m\u001b[1;33m\u001b[0m\u001b[0m\n\u001b[0;32m    197\u001b[0m             self._do_init(\n",
      "\u001b[1;32mC:\\Dev\\Spark\\spark-3.3.2-bin-hadoop3\\python\\pyspark\\context.py\u001b[0m in \u001b[0;36m_ensure_initialized\u001b[1;34m(cls, instance, gateway, conf)\u001b[0m\n\u001b[0;32m    428\u001b[0m \u001b[1;33m\u001b[0m\u001b[0m\n\u001b[0;32m    429\u001b[0m                     \u001b[1;31m# Raise error if there is already a running Spark context\u001b[0m\u001b[1;33m\u001b[0m\u001b[1;33m\u001b[0m\u001b[0m\n\u001b[1;32m--> 430\u001b[1;33m                     raise ValueError(\n\u001b[0m\u001b[0;32m    431\u001b[0m                         \u001b[1;34m\"Cannot run multiple SparkContexts at once; \"\u001b[0m\u001b[1;33m\u001b[0m\u001b[1;33m\u001b[0m\u001b[0m\n\u001b[0;32m    432\u001b[0m                         \u001b[1;34m\"existing SparkContext(app=%s, master=%s)\"\u001b[0m\u001b[1;33m\u001b[0m\u001b[1;33m\u001b[0m\u001b[0m\n",
      "\u001b[1;31mValueError\u001b[0m: Cannot run multiple SparkContexts at once; existing SparkContext(app=transformations_actions, master=local) created by __init__ at C:\\Users\\midst\\AppData\\Local\\Temp\\ipykernel_7112\\3504930459.py:2 "
     ]
    }
   ],
   "source": [
    "# SpackContext 객체 하나 더 생성하기(과연?)\n",
    "sc = SparkContext(conf = conf)"
   ]
  },
  {
   "cell_type": "code",
   "execution_count": 27,
   "id": "7e7a3e88",
   "metadata": {},
   "outputs": [],
   "source": [
    "# SparkContext는 프로그램 내에서 하나의 객체만 생성할 수 있다. (= Singleton 패턴)\n",
    "# SparkContext 객체 해제하기\n",
    "sc.stop()"
   ]
  },
  {
   "cell_type": "code",
   "execution_count": 28,
   "id": "64df27de",
   "metadata": {},
   "outputs": [],
   "source": [
    "# 다시 생성하기\n",
    "sc = SparkContext(conf = conf)"
   ]
  },
  {
   "cell_type": "markdown",
   "id": "3966e068",
   "metadata": {},
   "source": [
    "### 기본 Actions 함수 사용하기"
   ]
  },
  {
   "cell_type": "code",
   "execution_count": 29,
   "id": "d5baa4a9",
   "metadata": {},
   "outputs": [],
   "source": [
    "\"\"\"\n",
    "    [+] List로부터 RDD 객체 생성\n",
    "    - SparkContext.parallelize()\n",
    "    - 리스트 값: \n",
    "    \"짜장면\", \"마라탕\", \"짬뽕\", \n",
    "    \"떡볶이\", \"쌀국수\", \"짬뽕\", \n",
    "    \"짜장면\", \"짜장면\", \"짜장면\", \n",
    "    \"라면\", \"우동\", \"라면\"\n",
    "\"\"\"\n",
    "lst = [\"짜장면\", \"마라탕\", \"짬뽕\", \n",
    "    \"떡볶이\", \"쌀국수\", \"짬뽕\", \n",
    "    \"짜장면\", \"짜장면\", \"짜장면\", \n",
    "    \"라면\", \"우동\", \"라면\"]\n",
    "       \n",
    "# [+] lst로부터 RDD 객체 생성하기\n",
    "foods = sc.parallelize(lst)"
   ]
  },
  {
   "cell_type": "code",
   "execution_count": 30,
   "id": "6fb4fa66",
   "metadata": {},
   "outputs": [
    {
     "data": {
      "text/plain": [
       "['짜장면', '마라탕', '짬뽕', '떡볶이', '쌀국수', '짬뽕', '짜장면', '짜장면', '짜장면', '라면', '우동', '라면']"
      ]
     },
     "execution_count": 30,
     "metadata": {},
     "output_type": "execute_result"
    }
   ],
   "source": [
    "# [+] foods RDD 내용 출력\n",
    "foods.collect()"
   ]
  },
  {
   "cell_type": "code",
   "execution_count": 32,
   "id": "d59c7f78",
   "metadata": {},
   "outputs": [
    {
     "data": {
      "text/plain": [
       "defaultdict(int,\n",
       "            {'짜장면': 4,\n",
       "             '마라탕': 1,\n",
       "             '짬뽕': 2,\n",
       "             '떡볶이': 1,\n",
       "             '쌀국수': 1,\n",
       "             '라면': 2,\n",
       "             '우동': 1})"
      ]
     },
     "execution_count": 32,
     "metadata": {},
     "output_type": "execute_result"
    }
   ],
   "source": [
    "# [+] foods RDD 원소 값 별로 카운팅\n",
    "foods.countByValue()"
   ]
  },
  {
   "cell_type": "code",
   "execution_count": 33,
   "id": "bf30f01a",
   "metadata": {},
   "outputs": [
    {
     "data": {
      "text/plain": [
       "['짜장면', '마라탕', '짬뽕', '떡볶이', '쌀국수']"
      ]
     },
     "execution_count": 33,
     "metadata": {},
     "output_type": "execute_result"
    }
   ],
   "source": [
    "# take(n): 처음 n개의 원소를 출력\n",
    "foods.take(5)"
   ]
  },
  {
   "cell_type": "code",
   "execution_count": 34,
   "id": "5e50d039",
   "metadata": {},
   "outputs": [
    {
     "data": {
      "text/plain": [
       "'짜장면'"
      ]
     },
     "execution_count": 34,
     "metadata": {},
     "output_type": "execute_result"
    }
   ],
   "source": [
    "# first(): 첫 번째 값을 출력\n",
    "foods.first()"
   ]
  },
  {
   "cell_type": "code",
   "execution_count": 35,
   "id": "875879fb",
   "metadata": {},
   "outputs": [
    {
     "data": {
      "text/plain": [
       "12"
      ]
     },
     "execution_count": 35,
     "metadata": {},
     "output_type": "execute_result"
    }
   ],
   "source": [
    "# count(): 원소 갯수 출력(중복된 원소 포함)\n",
    "foods.count()"
   ]
  },
  {
   "cell_type": "code",
   "execution_count": 37,
   "id": "113da0af",
   "metadata": {},
   "outputs": [],
   "source": [
    "# distinct(): unique한 원소로 구성된 RDD를 생성하는 Transformation  (중복 제거)\n",
    "unique_foods = foods.distinct()"
   ]
  },
  {
   "cell_type": "code",
   "execution_count": 38,
   "id": "3f1fe319-5ef4-4a90-804e-52fc270f056c",
   "metadata": {},
   "outputs": [
    {
     "data": {
      "text/plain": [
       "['짜장면', '마라탕', '짬뽕', '떡볶이', '쌀국수', '라면', '우동']"
      ]
     },
     "execution_count": 38,
     "metadata": {},
     "output_type": "execute_result"
    }
   ],
   "source": [
    "unique_foods.collect()"
   ]
  },
  {
   "cell_type": "markdown",
   "id": "a21043a3",
   "metadata": {},
   "source": [
    "### 기본 Transformations 함수 사용하기"
   ]
  },
  {
   "cell_type": "code",
   "execution_count": null,
   "id": "6e65ae88",
   "metadata": {},
   "outputs": [],
   "source": [
    "# Transformations 은 지연 실행된다.\n",
    "sc.parallelize([1, 2, 3]).map(lambda x: x + 2)"
   ]
  },
  {
   "cell_type": "code",
   "execution_count": null,
   "id": "9c7f314d",
   "metadata": {},
   "outputs": [],
   "source": [
    "# Actions 를 만나면 즉시 실행된다.\n",
    "sc.parallelize([1, 2, 3]).map(lambda x: x + 2).collect()"
   ]
  },
  {
   "cell_type": "code",
   "execution_count": null,
   "id": "72bafd9b",
   "metadata": {},
   "outputs": [],
   "source": [
    "sc.parallelize([1, 2, 3]).map(lambda x: x * 2).collect()"
   ]
  },
  {
   "cell_type": "code",
   "execution_count": 40,
   "id": "6f392ed6",
   "metadata": {},
   "outputs": [],
   "source": [
    "movies = [\n",
    "    \"그린 북\",\n",
    "    \"매트릭스\",\n",
    "    \"토이 스토리\",\n",
    "    \"캐스트 어웨이\",\n",
    "    \"포드 V 페라리\",\n",
    "    \"보헤미안 랩소디\",\n",
    "    \"빽 투 더 퓨처\",\n",
    "    \"반지의 제왕\",\n",
    "    \"죽은 시인의 사회\"\n",
    "]"
   ]
  },
  {
   "cell_type": "code",
   "execution_count": 42,
   "id": "7a958842",
   "metadata": {},
   "outputs": [],
   "source": [
    "# [+] 리스트(movies) -> RDD 객체(moviesRDD) 생성\n",
    "moviesRDD = sc.parallelize(movies)"
   ]
  },
  {
   "cell_type": "code",
   "execution_count": 43,
   "id": "54ed5400",
   "metadata": {},
   "outputs": [
    {
     "data": {
      "text/plain": [
       "['그린 북',\n",
       " '매트릭스',\n",
       " '토이 스토리',\n",
       " '캐스트 어웨이',\n",
       " '포드 V 페라리',\n",
       " '보헤미안 랩소디',\n",
       " '빽 투 더 퓨처',\n",
       " '반지의 제왕',\n",
       " '죽은 시인의 사회']"
      ]
     },
     "execution_count": 43,
     "metadata": {},
     "output_type": "execute_result"
    }
   ],
   "source": [
    "moviesRDD.collect()"
   ]
  },
  {
   "cell_type": "code",
   "execution_count": 51,
   "id": "686ecfad-d4d6-42ef-acdf-d594d944233e",
   "metadata": {},
   "outputs": [
    {
     "data": {
      "text/plain": [
       "[['그린', '북'],\n",
       " ['매트릭스'],\n",
       " ['토이', '스토리'],\n",
       " ['캐스트', '어웨이'],\n",
       " ['포드', 'V', '페라리'],\n",
       " ['보헤미안', '랩소디'],\n",
       " ['빽', '투', '더', '퓨처'],\n",
       " ['반지의', '제왕'],\n",
       " ['죽은', '시인의', '사회']]"
      ]
     },
     "execution_count": 51,
     "metadata": {},
     "output_type": "execute_result"
    }
   ],
   "source": [
    "# map을 이용한 Tokenizing\n",
    "moviesRDD.map(lambda x: x.split(\" \")).collect()"
   ]
  },
  {
   "cell_type": "code",
   "execution_count": 49,
   "id": "07fc91d6",
   "metadata": {},
   "outputs": [],
   "source": [
    "# flatMap을 이용한 Tokenizing\n",
    "flatMovies = moviesRDD.flatMap(lambda x: x.split(\" \"))"
   ]
  },
  {
   "cell_type": "code",
   "execution_count": 50,
   "id": "d9cb114e",
   "metadata": {},
   "outputs": [
    {
     "data": {
      "text/plain": [
       "['그린',\n",
       " '북',\n",
       " '매트릭스',\n",
       " '토이',\n",
       " '스토리',\n",
       " '캐스트',\n",
       " '어웨이',\n",
       " '포드',\n",
       " 'V',\n",
       " '페라리',\n",
       " '보헤미안',\n",
       " '랩소디',\n",
       " '빽',\n",
       " '투',\n",
       " '더',\n",
       " '퓨처',\n",
       " '반지의',\n",
       " '제왕',\n",
       " '죽은',\n",
       " '시인의',\n",
       " '사회']"
      ]
     },
     "execution_count": 50,
     "metadata": {},
     "output_type": "execute_result"
    }
   ],
   "source": [
    "flatMovies.collect()"
   ]
  },
  {
   "cell_type": "code",
   "execution_count": 54,
   "id": "315fdd45",
   "metadata": {},
   "outputs": [],
   "source": [
    "\"\"\"\n",
    "    [+] flatMovies 에서 '매트릭스'를 제외\n",
    "    - filter(lambda ...)\n",
    "    - 저장할 객체: filteredMovies\n",
    "\"\"\"\n",
    "\n",
    "filteredMovies = flatMovies.filter(lambda x: x != \"매트릭스\")"
   ]
  },
  {
   "cell_type": "code",
   "execution_count": 55,
   "id": "aeb250e0",
   "metadata": {},
   "outputs": [
    {
     "data": {
      "text/plain": [
       "['그린',\n",
       " '북',\n",
       " '토이',\n",
       " '스토리',\n",
       " '캐스트',\n",
       " '어웨이',\n",
       " '포드',\n",
       " 'V',\n",
       " '페라리',\n",
       " '보헤미안',\n",
       " '랩소디',\n",
       " '빽',\n",
       " '투',\n",
       " '더',\n",
       " '퓨처',\n",
       " '반지의',\n",
       " '제왕',\n",
       " '죽은',\n",
       " '시인의',\n",
       " '사회']"
      ]
     },
     "execution_count": 55,
     "metadata": {},
     "output_type": "execute_result"
    }
   ],
   "source": [
    "filteredMovies.collect()"
   ]
  },
  {
   "cell_type": "code",
   "execution_count": 57,
   "id": "50a4b9d8",
   "metadata": {},
   "outputs": [],
   "source": [
    "\"\"\"\n",
    "    집합 관련 transformations 연산\n",
    "\"\"\"\n",
    "\n",
    "num1 = sc.parallelize([1, 2, 3, 4])\n",
    "num2 = sc.parallelize([4, 5, 6, 7, 8, 9, 10])"
   ]
  },
  {
   "cell_type": "code",
   "execution_count": 60,
   "id": "d94cafed",
   "metadata": {},
   "outputs": [
    {
     "data": {
      "text/plain": [
       "[4]"
      ]
     },
     "execution_count": 60,
     "metadata": {},
     "output_type": "execute_result"
    }
   ],
   "source": [
    "# 교집합(intersection) 구하기\n",
    "num1.intersection(num2).collect()"
   ]
  },
  {
   "cell_type": "code",
   "execution_count": 61,
   "id": "7f4611a7",
   "metadata": {},
   "outputs": [
    {
     "data": {
      "text/plain": [
       "[1, 2, 3, 4, 4, 5, 6, 7, 8, 9, 10]"
      ]
     },
     "execution_count": 61,
     "metadata": {},
     "output_type": "execute_result"
    }
   ],
   "source": [
    "# 합집합(union) 구하기\n",
    "num1.union(num2).collect()"
   ]
  },
  {
   "cell_type": "code",
   "execution_count": 63,
   "id": "2404073b",
   "metadata": {},
   "outputs": [
    {
     "data": {
      "text/plain": [
       "[2, 1, 3]"
      ]
     },
     "execution_count": 63,
     "metadata": {},
     "output_type": "execute_result"
    }
   ],
   "source": [
    "# 차집합(subtract) 구하기\n",
    "num1.subtract(num2).collect()"
   ]
  },
  {
   "cell_type": "code",
   "execution_count": 68,
   "id": "e3eca9ec",
   "metadata": {},
   "outputs": [
    {
     "data": {
      "text/plain": [
       "[1, 2, 2, 5, 5, 9]"
      ]
     },
     "execution_count": 68,
     "metadata": {},
     "output_type": "execute_result"
    }
   ],
   "source": [
    "\"\"\"\n",
    "    sample(withReplacement, fraction): 원소를 랜덤 샘플링하여 새로운 RDD를 생성하는 narrow transformation\n",
    "    - withReplacement, bool[optional]: 중복 샘플링 허용 여부\n",
    "    - fraction, float[optional]: 샘플링 확률[0~1], 확률이므로 정확한 사이즈가 보장되지 않음\n",
    "    - seed: 결과 재현(reproducibility)을 위한 설정 값\n",
    "\"\"\"\n",
    "\n",
    "# 합집합 생성\n",
    "numUnion = num1.union(num2)\n",
    "\n",
    "# 샘플링: 중복 허용, 50%\n",
    "numUnion.sample(True, 0.5).collect()"
   ]
  },
  {
   "cell_type": "code",
   "execution_count": 70,
   "id": "a07c7dc9",
   "metadata": {},
   "outputs": [
    {
     "data": {
      "text/plain": [
       "[2, 3, 4, 6, 8, 8, 8, 8, 9, 9]"
      ]
     },
     "execution_count": 70,
     "metadata": {},
     "output_type": "execute_result"
    }
   ],
   "source": [
    "# seed 파라미터를 설정하면 동일한 결과를 반복적으로 얻을 수 있다.\n",
    "numUnion.sample(True, 0.5, seed = 1).collect()"
   ]
  },
  {
   "cell_type": "code",
   "execution_count": 78,
   "id": "e04031f6",
   "metadata": {},
   "outputs": [],
   "source": [
    "\"\"\"\n",
    "    groupBy(): 특정 기준(함수로 정의)으로 그룹핑을 수행하는 wide transformation\n",
    "\"\"\"\n",
    "\n",
    "names = sc.parallelize([\"김민수\", \"최은선\", \"문선빈\", \"김민종\",\n",
    "                       \"박은빈\", \"이병헌\", \"손흥민\", \"박찬호\",\n",
    "                       \"구자욱\", \"차은우\", \"배용준\", \"배다혜\",\n",
    "                       \"차지연\", \"김정은\", \"권은비\", \"권나라\",\n",
    "                       \"나영석\", \"강호동\", \"임나연\", \"최수영\"])"
   ]
  },
  {
   "cell_type": "code",
   "execution_count": 101,
   "id": "1bc7fbfb",
   "metadata": {},
   "outputs": [],
   "source": [
    "#  원소의 첫 번째 값을 기준으로 그룹핑\n",
    "namesGroup = names.groupBy(lambda x: x[0])"
   ]
  },
  {
   "cell_type": "code",
   "execution_count": 102,
   "id": "8d4bd3e0",
   "metadata": {},
   "outputs": [
    {
     "data": {
      "text/plain": [
       "[('김', <pyspark.resultiterable.ResultIterable at 0x2c8769c9400>),\n",
       " ('최', <pyspark.resultiterable.ResultIterable at 0x2c8768e7280>),\n",
       " ('문', <pyspark.resultiterable.ResultIterable at 0x2c87683c0a0>),\n",
       " ('박', <pyspark.resultiterable.ResultIterable at 0x2c876832790>),\n",
       " ('이', <pyspark.resultiterable.ResultIterable at 0x2c876832400>),\n",
       " ('손', <pyspark.resultiterable.ResultIterable at 0x2c876832e50>),\n",
       " ('구', <pyspark.resultiterable.ResultIterable at 0x2c8768322e0>),\n",
       " ('차', <pyspark.resultiterable.ResultIterable at 0x2c876832130>),\n",
       " ('배', <pyspark.resultiterable.ResultIterable at 0x2c876832880>),\n",
       " ('권', <pyspark.resultiterable.ResultIterable at 0x2c876832070>),\n",
       " ('나', <pyspark.resultiterable.ResultIterable at 0x2c876832760>),\n",
       " ('강', <pyspark.resultiterable.ResultIterable at 0x2c876832a90>),\n",
       " ('임', <pyspark.resultiterable.ResultIterable at 0x2c876832520>)]"
      ]
     },
     "execution_count": 102,
     "metadata": {},
     "output_type": "execute_result"
    }
   ],
   "source": [
    "namesGroup.collect()"
   ]
  },
  {
   "cell_type": "code",
   "execution_count": 103,
   "id": "db49d378",
   "metadata": {},
   "outputs": [],
   "source": [
    "# collect() 결과를 리스트 객체(res)에 저장\n",
    "res = namesGroup.collect()"
   ]
  },
  {
   "cell_type": "code",
   "execution_count": 104,
   "id": "a4f013f5-6fc2-48ee-8e0b-17747d5ddba0",
   "metadata": {},
   "outputs": [
    {
     "data": {
      "text/plain": [
       "list"
      ]
     },
     "execution_count": 104,
     "metadata": {},
     "output_type": "execute_result"
    }
   ],
   "source": [
    "type(res)"
   ]
  },
  {
   "cell_type": "code",
   "execution_count": 105,
   "id": "5d7d95c0",
   "metadata": {},
   "outputs": [
    {
     "data": {
      "text/plain": [
       "[('김', <pyspark.resultiterable.ResultIterable at 0x2c87683c400>),\n",
       " ('최', <pyspark.resultiterable.ResultIterable at 0x2c87683cf10>),\n",
       " ('문', <pyspark.resultiterable.ResultIterable at 0x2c87683c8e0>),\n",
       " ('박', <pyspark.resultiterable.ResultIterable at 0x2c87683c7c0>),\n",
       " ('이', <pyspark.resultiterable.ResultIterable at 0x2c87683caf0>),\n",
       " ('손', <pyspark.resultiterable.ResultIterable at 0x2c87683cd90>),\n",
       " ('구', <pyspark.resultiterable.ResultIterable at 0x2c87683cfa0>),\n",
       " ('차', <pyspark.resultiterable.ResultIterable at 0x2c8766fc640>),\n",
       " ('배', <pyspark.resultiterable.ResultIterable at 0x2c8766fcbe0>),\n",
       " ('권', <pyspark.resultiterable.ResultIterable at 0x2c8766fceb0>),\n",
       " ('나', <pyspark.resultiterable.ResultIterable at 0x2c8766fcdc0>),\n",
       " ('강', <pyspark.resultiterable.ResultIterable at 0x2c8766fcdf0>),\n",
       " ('임', <pyspark.resultiterable.ResultIterable at 0x2c8768e7040>)]"
      ]
     },
     "execution_count": 105,
     "metadata": {},
     "output_type": "execute_result"
    }
   ],
   "source": [
    "res"
   ]
  },
  {
   "cell_type": "code",
   "execution_count": 106,
   "id": "4e7c6fd3",
   "metadata": {},
   "outputs": [
    {
     "data": {
      "text/plain": [
       "[('김', <pyspark.resultiterable.ResultIterable at 0x2c87683c400>),\n",
       " ('최', <pyspark.resultiterable.ResultIterable at 0x2c87683cf10>),\n",
       " ('문', <pyspark.resultiterable.ResultIterable at 0x2c87683c8e0>),\n",
       " ('박', <pyspark.resultiterable.ResultIterable at 0x2c87683c7c0>),\n",
       " ('이', <pyspark.resultiterable.ResultIterable at 0x2c87683caf0>),\n",
       " ('손', <pyspark.resultiterable.ResultIterable at 0x2c87683cd90>),\n",
       " ('구', <pyspark.resultiterable.ResultIterable at 0x2c87683cfa0>),\n",
       " ('차', <pyspark.resultiterable.ResultIterable at 0x2c8766fc640>),\n",
       " ('배', <pyspark.resultiterable.ResultIterable at 0x2c8766fcbe0>),\n",
       " ('권', <pyspark.resultiterable.ResultIterable at 0x2c8766fceb0>),\n",
       " ('나', <pyspark.resultiterable.ResultIterable at 0x2c8766fcdc0>),\n",
       " ('강', <pyspark.resultiterable.ResultIterable at 0x2c8766fcdf0>),\n",
       " ('임', <pyspark.resultiterable.ResultIterable at 0x2c8768e7040>)]"
      ]
     },
     "execution_count": 106,
     "metadata": {},
     "output_type": "execute_result"
    }
   ],
   "source": [
    "# ResultIterable 객체는 list로 쉽게 변환 가능하다.\n",
    "list(res)"
   ]
  },
  {
   "cell_type": "code",
   "execution_count": 107,
   "id": "424d0ab4-1f73-47a9-aaac-319c1d4a2724",
   "metadata": {},
   "outputs": [
    {
     "data": {
      "text/plain": [
       "['차은우', '차지연']"
      ]
     },
     "execution_count": 107,
     "metadata": {},
     "output_type": "execute_result"
    }
   ],
   "source": [
    "list(res[7][1])"
   ]
  },
  {
   "cell_type": "code",
   "execution_count": 108,
   "id": "f0ce0a66",
   "metadata": {},
   "outputs": [
    {
     "name": "stdout",
     "output_type": "stream",
     "text": [
      "김 ['김민수', '김민종', '김정은']\n",
      "최 ['최은선', '최수영']\n",
      "문 ['문선빈']\n",
      "박 ['박은빈', '박찬호']\n",
      "이 ['이병헌']\n",
      "손 ['손흥민']\n",
      "구 ['구자욱']\n",
      "차 ['차은우', '차지연']\n",
      "배 ['배용준', '배다혜']\n",
      "권 ['권은비', '권나라']\n",
      "나 ['나영석']\n",
      "강 ['강호동']\n",
      "임 ['임나연']\n"
     ]
    }
   ],
   "source": [
    "# for 문을 이용하여 구조적으로 결과를 출력\n",
    "for (k, v) in res:\n",
    "    print(k, list(v))\n",
    "    "
   ]
  },
  {
   "cell_type": "code",
   "execution_count": 109,
   "id": "436e6f5c",
   "metadata": {},
   "outputs": [],
   "source": [
    "# groupBy()는 모드 연산과 같이 수학 연산에도 사용될 수 있다.\n",
    "nums = sc.parallelize([1, 2, 3, 4, 5, 6, 7, 8, 9, 10])"
   ]
  },
  {
   "cell_type": "code",
   "execution_count": 112,
   "id": "94357c10",
   "metadata": {},
   "outputs": [],
   "source": [
    "# 홀수/짝수로 그룹핑\n",
    "numsGroup = nums.groupBy(lambda x: x % 2)"
   ]
  },
  {
   "cell_type": "code",
   "execution_count": 120,
   "id": "6c1678c1-ff9f-42f8-99cd-70f861b1186b",
   "metadata": {},
   "outputs": [
    {
     "data": {
      "text/plain": [
       "[(1, <pyspark.resultiterable.ResultIterable at 0x2c876972220>),\n",
       " (0, <pyspark.resultiterable.ResultIterable at 0x2c8769cefa0>)]"
      ]
     },
     "execution_count": 120,
     "metadata": {},
     "output_type": "execute_result"
    }
   ],
   "source": [
    "numsGroup"
   ]
  },
  {
   "cell_type": "code",
   "execution_count": 117,
   "id": "16d990bc",
   "metadata": {},
   "outputs": [
    {
     "data": {
      "text/plain": [
       "[1, 3, 5, 7, 9]"
      ]
     },
     "execution_count": 117,
     "metadata": {},
     "output_type": "execute_result"
    }
   ],
   "source": [
    "# [+] '1' 그룹에 해당되는 원소 리스트 출력하기\n",
    "list(numsGroup[0][1])"
   ]
  },
  {
   "cell_type": "code",
   "execution_count": 118,
   "id": "9c5cd038",
   "metadata": {},
   "outputs": [
    {
     "data": {
      "text/plain": [
       "[2, 4, 6, 8, 10]"
      ]
     },
     "execution_count": 118,
     "metadata": {},
     "output_type": "execute_result"
    }
   ],
   "source": [
    "# [+] '0' 그룹에 해당되는 원소 리스트 출력하기\n",
    "list(numsGroup[1][1])"
   ]
  },
  {
   "cell_type": "code",
   "execution_count": null,
   "id": "f0060965-8465-4f13-8497-7675df404646",
   "metadata": {},
   "outputs": [],
   "source": []
  }
 ],
 "metadata": {
  "kernelspec": {
   "display_name": "Python 3 (ipykernel)",
   "language": "python",
   "name": "python3"
  },
  "language_info": {
   "codemirror_mode": {
    "name": "ipython",
    "version": 3
   },
   "file_extension": ".py",
   "mimetype": "text/x-python",
   "name": "python",
   "nbconvert_exporter": "python",
   "pygments_lexer": "ipython3",
   "version": "3.9.13"
  }
 },
 "nbformat": 4,
 "nbformat_minor": 5
}
