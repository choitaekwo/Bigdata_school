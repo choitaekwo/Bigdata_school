{
 "cells": [
  {
   "cell_type": "code",
   "execution_count": 1,
   "metadata": {},
   "outputs": [],
   "source": [
    "import findspark\n",
    "findspark.init()\n",
    "\n",
    "from pyspark import SparkConf, SparkContext"
   ]
  },
  {
   "cell_type": "code",
   "execution_count": 2,
   "metadata": {
    "tags": []
   },
   "outputs": [],
   "source": [
    "# [+] PySpark 임포트 및 설정\n",
    "conf = SparkConf().setMaster(\"local\").setAppName(\"key-value-rdd-operations\")\n",
    "sc = SparkContext(conf = conf)"
   ]
  },
  {
   "cell_type": "markdown",
   "metadata": {
    "tags": []
   },
   "source": [
    "### groupBy(): 입력 함수를 기준으로 그룹핑"
   ]
  },
  {
   "cell_type": "code",
   "execution_count": 3,
   "metadata": {
    "tags": []
   },
   "outputs": [],
   "source": [
    "# [+] 리스트로부터 rdd 생성 [1, 1, 2, 3, 5, 8]\n",
    "rdd = sc.parallelize([1, 1, 2, 3, 5, 8])"
   ]
  },
  {
   "cell_type": "code",
   "execution_count": 4,
   "metadata": {
    "tags": []
   },
   "outputs": [],
   "source": [
    "# [+] groupBy()를 이용한 홀수/짝수 그룹핑 -> groups\n",
    "groups = rdd.groupBy(lambda x : x % 2)"
   ]
  },
  {
   "cell_type": "code",
   "execution_count": 6,
   "metadata": {},
   "outputs": [
    {
     "data": {
      "text/plain": [
       "[(1, <pyspark.resultiterable.ResultIterable at 0x1f7a6e10e80>),\n",
       " (0, <pyspark.resultiterable.ResultIterable at 0x1f7a87b3fa0>)]"
      ]
     },
     "execution_count": 6,
     "metadata": {},
     "output_type": "execute_result"
    }
   ],
   "source": [
    "# [+] 그룹핑 결과를 리스트로 반환 -> res\n",
    "res = groups.collect()"
   ]
  },
  {
   "cell_type": "code",
   "execution_count": 7,
   "metadata": {
    "tags": []
   },
   "outputs": [
    {
     "name": "stdout",
     "output_type": "stream",
     "text": [
      "1 [1, 1, 3, 5]\n",
      "0 [2, 8]\n"
     ]
    }
   ],
   "source": [
    "# [+] 그룹핑 결과(res) 출력\n",
    "for k, v in res:\n",
    "    print(k, list(v))"
   ]
  },
  {
   "cell_type": "markdown",
   "metadata": {},
   "source": [
    "### groupByKey(): Key 값을 기준으로 그룹핑"
   ]
  },
  {
   "cell_type": "code",
   "execution_count": null,
   "metadata": {
    "tags": []
   },
   "outputs": [],
   "source": [
    "# [+] 리스트로부터 key-value rdd 생성 [('a', 1), ('b', 1), ('a', 1)]\n",
    "rdd = sc.parallelize([('a', 1), ('b', 1), ('a', 1)])\n",
    "rdd.collect()"
   ]
  },
  {
   "cell_type": "code",
   "execution_count": null,
   "metadata": {
    "tags": []
   },
   "outputs": [],
   "source": [
    "# [+] groupByKey()를 이용한 그룹핑 및 리스트 반환 -> groups\n",
    "groups = rdd.groupByKey()"
   ]
  },
  {
   "cell_type": "code",
   "execution_count": null,
   "metadata": {},
   "outputs": [],
   "source": [
    "# [+] 그룹핑 결과를 리스트로 반환 -> res\n",
    "res = groups.collect()\n",
    "res"
   ]
  },
  {
   "cell_type": "code",
   "execution_count": null,
   "metadata": {
    "tags": []
   },
   "outputs": [],
   "source": [
    "# [+]그룹핑 결과(res) 출력\n",
    "for k, v in res:\n",
    "    print(k, list(v))"
   ]
  },
  {
   "cell_type": "code",
   "execution_count": null,
   "metadata": {
    "tags": []
   },
   "outputs": [],
   "source": [
    "# len(): Python 객체의 길이를 리턴\n",
    "value = [1, 1]\n",
    "len(value)"
   ]
  },
  {
   "cell_type": "code",
   "execution_count": null,
   "metadata": {
    "tags": []
   },
   "outputs": [],
   "source": [
    "# mapValues(), len()을 이용한 값 빈도 계산\n",
    "counts = groups.mapValues(len)"
   ]
  },
  {
   "cell_type": "code",
   "execution_count": null,
   "metadata": {
    "tags": []
   },
   "outputs": [],
   "source": [
    "counts.collect()"
   ]
  },
  {
   "cell_type": "markdown",
   "metadata": {},
   "source": [
    "### groupBy() 예제\n",
    "1. 리스트로부터 RDD 객체 생성\n",
    "    + 리스트: ['C', 'C++', 'Python', 'Java', 'C#']  \n",
    "2. 원소의 첫 번째 문자 값을 기준으로 그룹핑\n",
    "    + 기대 결과:  \n",
    "        J ['Java']  \n",
    "        C ['C', 'C++', 'C#']  \n",
    "        P ['Python']  \n",
    "3. 그룹핑 결과를 리스트 객체로 출력"
   ]
  },
  {
   "cell_type": "code",
   "execution_count": null,
   "metadata": {},
   "outputs": [],
   "source": [
    "# [+] 리스트로부터 RDD 객체 생성\n",
    "rdd = sc.parallelize(['C', 'C++', 'Python', 'Java', 'C#'])"
   ]
  },
  {
   "cell_type": "code",
   "execution_count": null,
   "metadata": {},
   "outputs": [],
   "source": [
    "# [+] 원소별 첫 번째 값(x[0])을 기준으로 그룹핑 -> groups\n",
    "groups = rdd.groupBy(lambda x:x[0])"
   ]
  },
  {
   "cell_type": "code",
   "execution_count": null,
   "metadata": {},
   "outputs": [],
   "source": [
    "# [+] 그룹핑 결과를 리스트로 반환 -> res\n",
    "res = groups.collect()"
   ]
  },
  {
   "cell_type": "code",
   "execution_count": null,
   "metadata": {},
   "outputs": [],
   "source": [
    "# [+] 그룹핑 결과(res) 출력\n",
    "for k, v in res:\n",
    "    print(k, list(v))"
   ]
  },
  {
   "cell_type": "markdown",
   "metadata": {},
   "source": [
    "### groupByKey() 예제\n",
    "1. list 객체로부터 3개의 파티션을 갖는 Key-Value RDD 생성하기\n",
    "    + getNumPatitions(): RDD 객체의 파티션 수 출력\n",
    "2. Key 별로 그룹핑\n",
    "3. 그룹핑 결과 리스트로 반환\n",
    "4. 리스트 출력"
   ]
  },
  {
   "cell_type": "code",
   "execution_count": null,
   "metadata": {},
   "outputs": [],
   "source": [
    "# list 객체로부터 3개의 파티션을 갖는 Key-Value RDD 생성하기\n",
    "\n",
    "rdd = sc.parallelize([  # 과목 별 점수 데이터\n",
    "    ('Math', 7), ('Math', 2), ('English', 7),\n",
    "    ('Science', 7), ('English', 4), ('English', 9),\n",
    "    ('Math', 8), ('Math', 3), ('English', 4),\n",
    "    ('Science', 6), ('Science', 9), ('Science', 5)\n",
    "], 3) # 파티션 수: 3"
   ]
  },
  {
   "cell_type": "code",
   "execution_count": 3,
   "metadata": {
    "scrolled": true
   },
   "outputs": [
    {
     "ename": "NameError",
     "evalue": "name 'rdd' is not defined",
     "output_type": "error",
     "traceback": [
      "\u001b[1;31m---------------------------------------------------------------------------\u001b[0m",
      "\u001b[1;31mNameError\u001b[0m                                 Traceback (most recent call last)",
      "\u001b[1;32m~\\AppData\\Local\\Temp\\ipykernel_23444\\3921843112.py\u001b[0m in \u001b[0;36m<module>\u001b[1;34m\u001b[0m\n\u001b[0;32m      1\u001b[0m \u001b[1;31m# getNumPartitions(): RDD 객체의 파티션 수를 확인하는 액션 메서드\u001b[0m\u001b[1;33m\u001b[0m\u001b[1;33m\u001b[0m\u001b[0m\n\u001b[1;32m----> 2\u001b[1;33m \u001b[0mrdd\u001b[0m\u001b[1;33m.\u001b[0m\u001b[0mgetNumpartitions\u001b[0m\u001b[1;33m(\u001b[0m\u001b[1;33m)\u001b[0m\u001b[1;33m\u001b[0m\u001b[1;33m\u001b[0m\u001b[0m\n\u001b[0m",
      "\u001b[1;31mNameError\u001b[0m: name 'rdd' is not defined"
     ]
    }
   ],
   "source": [
    "# getNumPartitions(): RDD 객체의 파티션 수를 확인하는 액션 메서드\n",
    "rdd.getNumpartitions()"
   ]
  },
  {
   "cell_type": "code",
   "execution_count": 22,
   "metadata": {},
   "outputs": [],
   "source": [
    "# [+] Key 별로 그룹핑 -> groups\n",
    "groups = rdd.groupByKey()"
   ]
  },
  {
   "cell_type": "code",
   "execution_count": 23,
   "metadata": {},
   "outputs": [],
   "source": [
    "# [+] 그룹핑 결과 리스트로 반환 -> res\n",
    "res = groups.collect()"
   ]
  },
  {
   "cell_type": "code",
   "execution_count": 24,
   "metadata": {},
   "outputs": [
    {
     "name": "stdout",
     "output_type": "stream",
     "text": [
      "Science [7, 6, 9, 5]\n",
      "Math [7, 2, 8, 3]\n",
      "English [7, 4, 9, 4]\n"
     ]
    }
   ],
   "source": [
    "# [+] 그룹핑 결과(res) 출력\n",
    "for k, v in res:\n",
    "    print(k, list(v))"
   ]
  },
  {
   "cell_type": "code",
   "execution_count": 26,
   "metadata": {},
   "outputs": [],
   "source": [
    "# key별 그룹핑을 2개의 파티션으로 분리하여 수행 -> groups\n",
    "groups = rdd.groupByKey(2)"
   ]
  },
  {
   "cell_type": "code",
   "execution_count": 27,
   "metadata": {},
   "outputs": [
    {
     "data": {
      "text/plain": [
       "2"
      ]
     },
     "execution_count": 27,
     "metadata": {},
     "output_type": "execute_result"
    }
   ],
   "source": [
    "# [+] 파티션 수 출력\n",
    "groups.getNumPartitions()"
   ]
  },
  {
   "cell_type": "code",
   "execution_count": 33,
   "metadata": {},
   "outputs": [],
   "source": [
    "# 파티션별 RDD 값들을 리스트로 반환\n",
    "res = groups.glom().collect()"
   ]
  },
  {
   "cell_type": "code",
   "execution_count": 29,
   "metadata": {},
   "outputs": [
    {
     "name": "stdout",
     "output_type": "stream",
     "text": [
      "partition0 : ('Science', <pyspark.resultiterable.ResultIterable object at 0x000002685256C4C0>)\n",
      "\n",
      "partition1 : ('Math', <pyspark.resultiterable.ResultIterable object at 0x0000026853FC9B80>)\n",
      "\n",
      "partition2 : ('English', <pyspark.resultiterable.ResultIterable object at 0x0000026853FC9880>)\n",
      "\n"
     ]
    }
   ],
   "source": [
    "#for i, partition in enumerate(res):\n",
    " #   print(f\"partition{i} : {partition}\\n\")"
   ]
  },
  {
   "cell_type": "code",
   "execution_count": 34,
   "metadata": {},
   "outputs": [
    {
     "data": {
      "text/plain": [
       "[[('English', <pyspark.resultiterable.ResultIterable at 0x26853fc98b0>),\n",
       "  ('Science', <pyspark.resultiterable.ResultIterable at 0x26853e7a7c0>)],\n",
       " [('Math', <pyspark.resultiterable.ResultIterable at 0x26853f55c40>)]]"
      ]
     },
     "execution_count": 34,
     "metadata": {},
     "output_type": "execute_result"
    }
   ],
   "source": [
    "res"
   ]
  },
  {
   "cell_type": "code",
   "execution_count": 35,
   "metadata": {},
   "outputs": [
    {
     "name": "stdout",
     "output_type": "stream",
     "text": [
      "English [7, 4, 9, 4]\n",
      "Science [7, 6, 9, 5]\n"
     ]
    }
   ],
   "source": [
    "# [+] 0번째 파티션에 대한 그룹핑 결과(res)를 출력\n",
    "for k, v in res[0]:\n",
    "    print(k, list(v))"
   ]
  },
  {
   "cell_type": "code",
   "execution_count": 36,
   "metadata": {},
   "outputs": [
    {
     "name": "stdout",
     "output_type": "stream",
     "text": [
      "Math [7, 2, 8, 3]\n"
     ]
    }
   ],
   "source": [
    "# [+] 1번째 파티션에 대한 그룹핑 결과(res)를 출력\n",
    "for k, v in res[1]:\n",
    "    print(k, list(v))"
   ]
  },
  {
   "cell_type": "markdown",
   "metadata": {},
   "source": [
    "### reduce() vs reduceByKey()\n",
    "+ reduce(): 입력 함수를 기준으로 집계를 수행하는 액션 메서드\n",
    "+ reduceByKey(): Key를 기준으로 그룹핑 및 집계를 수행하는 변환 메서드"
   ]
  },
  {
   "cell_type": "code",
   "execution_count": 4,
   "metadata": {},
   "outputs": [
    {
     "data": {
      "text/plain": [
       "15"
      ]
     },
     "execution_count": 4,
     "metadata": {},
     "output_type": "execute_result"
    }
   ],
   "source": [
    "# [+] reduce() 를 이용한 총합 구하기\n",
    "sc.parallelize([1, 2, 3, 4, 5]).reduce(lambda x, y : x + y)"
   ]
  },
  {
   "cell_type": "code",
   "execution_count": 47,
   "metadata": {},
   "outputs": [
    {
     "data": {
      "text/plain": [
       "[('a', 1), ('a', 1), ('a', 1), ('b', 1), ('b', 1), ('c', 1), ('c', 1)]"
      ]
     },
     "execution_count": 47,
     "metadata": {},
     "output_type": "execute_result"
    }
   ],
   "source": [
    "# [+] 리스트로부터 K-V RDD 생성 -> rdd\n",
    "rdd = sc.parallelize(['a', 'a', 'a', 'b', 'b', 'c', 'c'])\n",
    "kvrdd = rdd.map(lambda x : (x, 1))\n",
    "kvrdd.collect()"
   ]
  },
  {
   "cell_type": "code",
   "execution_count": 52,
   "metadata": {},
   "outputs": [
    {
     "data": {
      "text/plain": [
       "[('a', 3), ('b', 2), ('c', 2)]"
      ]
     },
     "execution_count": 52,
     "metadata": {},
     "output_type": "execute_result"
    }
   ],
   "source": [
    "# [+] reduceByKey()를 이용한 Key별 총합 계산 및 리스트로 반환\n",
    "reduced = kvrdd.reduceByKey(lambda a, b : a + b)\n",
    "reduced.collect()"
   ]
  },
  {
   "cell_type": "code",
   "execution_count": 6,
   "metadata": {},
   "outputs": [],
   "source": [
    "# 과목 별 점수 데이터\n",
    "rdd = sc.parallelize([\n",
    "    ('Math', 7), ('Math', 2), ('English', 7),\n",
    "    ('Science', 7), ('English', 4), ('English', 9),\n",
    "    ('Math', 8), ('Math', 3), ('English', 4),\n",
    "    ('Science', 6), ('Science', 9), ('Science', 5)\n",
    "], 3)"
   ]
  },
  {
   "cell_type": "code",
   "execution_count": 65,
   "metadata": {},
   "outputs": [
    {
     "data": {
      "text/plain": [
       "[('Science', 27), ('Math', 20), ('English', 24)]"
      ]
     },
     "execution_count": 65,
     "metadata": {},
     "output_type": "execute_result"
    }
   ],
   "source": [
    "# [+] reduceByKey() 를 이용한 과목 별 점수 총합 구하기\n",
    "scores = rdd.reduceByKey(lambda x, y: x + y)"
   ]
  },
  {
   "cell_type": "code",
   "execution_count": 11,
   "metadata": {},
   "outputs": [
    {
     "data": {
      "text/plain": [
       "[('Math', (7, 1)),\n",
       " ('Math', (2, 1)),\n",
       " ('English', (7, 1)),\n",
       " ('Science', (7, 1)),\n",
       " ('English', (4, 1)),\n",
       " ('English', (9, 1)),\n",
       " ('Math', (8, 1)),\n",
       " ('Math', (3, 1)),\n",
       " ('English', (4, 1)),\n",
       " ('Science', (6, 1)),\n",
       " ('Science', (9, 1)),\n",
       " ('Science', (5, 1))]"
      ]
     },
     "execution_count": 11,
     "metadata": {},
     "output_type": "execute_result"
    }
   ],
   "source": [
    "# 과목별 총점과 평균도 구해보기\n",
    "scores_transformed = rdd.mapValues(lambda x : (x, 1))\n",
    "scores_transformed.collect()"
   ]
  },
  {
   "cell_type": "code",
   "execution_count": 13,
   "metadata": {},
   "outputs": [
    {
     "data": {
      "text/plain": [
       "[('Science', (27, 4)), ('Math', (20, 4)), ('English', (24, 4))]"
      ]
     },
     "execution_count": 13,
     "metadata": {},
     "output_type": "execute_result"
    }
   ],
   "source": [
    "scores_reduced = scores_transformed.reduceByKey(lambda x, y: (x[0] + y[0], x[1] + y[1]))\n",
    "scores_reduced.collect()"
   ]
  },
  {
   "cell_type": "markdown",
   "metadata": {},
   "source": [
    "### mapValues() vs map()\n",
    "+ mapValues(): value에만 함수를 적용"
   ]
  },
  {
   "cell_type": "code",
   "execution_count": 73,
   "metadata": {},
   "outputs": [],
   "source": [
    "# 리스트로부터 K-V RDD 객체 생성\n",
    "rdd = sc.parallelize([\n",
    "    ('a', ['apple', 'banana', 'lemon']),\n",
    "    ('b', ['grapes'])\n",
    "])"
   ]
  },
  {
   "cell_type": "code",
   "execution_count": 74,
   "metadata": {},
   "outputs": [
    {
     "data": {
      "text/plain": [
       "[('a', 3), ('b', 1)]"
      ]
     },
     "execution_count": 74,
     "metadata": {},
     "output_type": "execute_result"
    }
   ],
   "source": [
    "# mapValues(), len()를 이용하여 키 별 갯수 세기\n",
    "rdd.mapValues(len).collect()"
   ]
  },
  {
   "cell_type": "code",
   "execution_count": 75,
   "metadata": {},
   "outputs": [
    {
     "data": {
      "text/plain": [
       "[2, 2]"
      ]
     },
     "execution_count": 75,
     "metadata": {},
     "output_type": "execute_result"
    }
   ],
   "source": [
    "# map(): key, value 에 함수를 적용\n",
    "rdd.map(len).collect()"
   ]
  },
  {
   "cell_type": "markdown",
   "metadata": {},
   "source": [
    "### countByKey()\n",
    "Key별 값 개수를 계산 및 딕셔너리로 반환하는 액션 메서드"
   ]
  },
  {
   "cell_type": "code",
   "execution_count": 76,
   "metadata": {},
   "outputs": [],
   "source": [
    "# countByKey()를 이용하여 Key별 값 배수 계산 및 반환 -> res\n",
    "rdd = sc.parallelize([\n",
    "    ('a', 1), ('b', 1), ('a', 1)\n",
    "])\n",
    "\n",
    "res = rdd.countByKey()"
   ]
  },
  {
   "cell_type": "code",
   "execution_count": 77,
   "metadata": {},
   "outputs": [
    {
     "name": "stdout",
     "output_type": "stream",
     "text": [
      "defaultdict(<class 'int'>, {'a': 2, 'b': 1})\n"
     ]
    }
   ],
   "source": [
    "# countByKey() 결과 출력\n",
    "print(res)"
   ]
  },
  {
   "cell_type": "markdown",
   "metadata": {},
   "source": [
    "### keys()\n",
    "key 목록을 RDD로 생성하는 변환 메서드"
   ]
  },
  {
   "cell_type": "code",
   "execution_count": 14,
   "metadata": {},
   "outputs": [],
   "source": [
    "# 과목 별 점수 데이터\n",
    "rdd = sc.parallelize([\n",
    "    ('Math', 7), ('Math', 2), ('English', 7),\n",
    "    ('Science', 7), ('English', 4), ('English', 9),\n",
    "    ('Math', 8), ('Math', 3), ('English', 4),\n",
    "    ('Science', 6), ('Science', 9), ('Science', 5)\n",
    "], 3)"
   ]
  },
  {
   "cell_type": "code",
   "execution_count": 82,
   "metadata": {},
   "outputs": [
    {
     "data": {
      "text/plain": [
       "['Math',\n",
       " 'Math',\n",
       " 'English',\n",
       " 'Science',\n",
       " 'English',\n",
       " 'English',\n",
       " 'Math',\n",
       " 'Math',\n",
       " 'English',\n",
       " 'Science',\n",
       " 'Science',\n",
       " 'Science']"
      ]
     },
     "execution_count": 82,
     "metadata": {},
     "output_type": "execute_result"
    }
   ],
   "source": [
    "# RDD 키 목록 생성 및 출력\n",
    "rdd_keys = rdd.keys()\n",
    "rdd_keys.collect()"
   ]
  },
  {
   "cell_type": "code",
   "execution_count": 16,
   "metadata": {},
   "outputs": [
    {
     "data": {
      "text/plain": [
       "['Science', 'Math', 'English']"
      ]
     },
     "execution_count": 16,
     "metadata": {},
     "output_type": "execute_result"
    }
   ],
   "source": [
    "# [+] 유니크한 키 값 출력\n",
    "rdd.keys().distinct().collect()"
   ]
  },
  {
   "cell_type": "code",
   "execution_count": 17,
   "metadata": {},
   "outputs": [
    {
     "data": {
      "text/plain": [
       "3"
      ]
     },
     "execution_count": 17,
     "metadata": {},
     "output_type": "execute_result"
    }
   ],
   "source": [
    "# [+] 유니크한 키 개수 출력\n",
    "rdd.keys().distinct().count()"
   ]
  },
  {
   "cell_type": "markdown",
   "metadata": {},
   "source": [
    "### Join 연산\n",
    "+ join(): 내부조인\n",
    "+ leftOuterJoin(): 외부조인(첫 번째 RDD 중심)\n",
    "+ rightOuterJoin(): 외부조인(두 번째 RDD 중심)"
   ]
  },
  {
   "cell_type": "code",
   "execution_count": 91,
   "metadata": {},
   "outputs": [],
   "source": [
    "# K-V RDD 객체 두 개 생성 \n",
    "rdd1 = sc.parallelize([(\"a\", 1), (\"b\", 4)])\n",
    "rdd2 = sc.parallelize([(\"a\", 2)])"
   ]
  },
  {
   "cell_type": "code",
   "execution_count": 93,
   "metadata": {},
   "outputs": [
    {
     "data": {
      "text/plain": [
       "[('a', (1, 2))]"
      ]
     },
     "execution_count": 93,
     "metadata": {},
     "output_type": "execute_result"
    }
   ],
   "source": [
    "# Join 연산\n",
    "rdd1.join(rdd2).collect()"
   ]
  },
  {
   "cell_type": "code",
   "execution_count": 94,
   "metadata": {},
   "outputs": [
    {
     "data": {
      "text/plain": [
       "[('b', (4, None)), ('a', (1, 2))]"
      ]
     },
     "execution_count": 94,
     "metadata": {},
     "output_type": "execute_result"
    }
   ],
   "source": [
    "# Left Outer Join 연산\n",
    "rdd1.leftOuterJoin(rdd2).collect()"
   ]
  },
  {
   "cell_type": "code",
   "execution_count": 96,
   "metadata": {},
   "outputs": [
    {
     "data": {
      "text/plain": [
       "[('a', (1, 2))]"
      ]
     },
     "execution_count": 96,
     "metadata": {},
     "output_type": "execute_result"
    }
   ],
   "source": [
    "# Right Outer Join 연산\n",
    "rdd1.rightOuterJoin(rdd2).collect()"
   ]
  }
 ],
 "metadata": {
  "kernelspec": {
   "display_name": "Python 3 (ipykernel)",
   "language": "python",
   "name": "python3"
  },
  "language_info": {
   "codemirror_mode": {
    "name": "ipython",
    "version": 3
   },
   "file_extension": ".py",
   "mimetype": "text/x-python",
   "name": "python",
   "nbconvert_exporter": "python",
   "pygments_lexer": "ipython3",
   "version": "3.9.13"
  }
 },
 "nbformat": 4,
 "nbformat_minor": 4
}
