{
 "cells": [
  {
   "cell_type": "code",
   "execution_count": 1,
   "metadata": {},
   "outputs": [],
   "source": [
    "# [+] SparkSession 임포트\n",
    "import findspark\n",
    "findspark.init()\n",
    "\n",
    "from pyspark.sql import SparkSession\n",
    "\n",
    "# [+] SparkSession 객체 생성 및 설정\n",
    "spark = SparkSession.builder.master('local').appName('udf').getOrCreate()"
   ]
  },
  {
   "cell_type": "code",
   "execution_count": 2,
   "metadata": {},
   "outputs": [],
   "source": [
    "# 샘플 데이터: 한신대 맛집 및 대표메뉴\n",
    "hsu_restaurants = [\n",
    "    ('진현가든', '삼치돌솥밥', '경기 오산시 양산로 340딩', 3.5),\n",
    "    ('대광생막창', '돼지막창', '경기 화성시 한신대길 99', 4.0),\n",
    "    ('찌개동아리', '제육전골', '경기 오산시 한신대133번길 4', 3.5),\n",
    "    ('한판삼겹', '항정살', '경기 오산시 양산로410번길 8', 3.5),\n",
    "    ('화락', '초밥', '경기 오산시 양산로 347 대성빌딩1층', 3.5),\n",
    "    ('해우리', '해물라면', '경기 오산시 한신대길 135 1층', 4.5),\n",
    "    ('행복한콩박사', '맑은순두부', '경기 오산시 양산로398번길 8-11', 3.5)\n",
    "]\n"
   ]
  },
  {
   "cell_type": "code",
   "execution_count": 4,
   "metadata": {},
   "outputs": [],
   "source": [
    "# [+] 스키마 정의\n",
    "schema = ['restaurant_name', 'specialty', 'address', 'score']"
   ]
  },
  {
   "cell_type": "code",
   "execution_count": 5,
   "metadata": {},
   "outputs": [],
   "source": [
    "# [+] 데이터프레임 생성\n",
    "df = spark.createDataFrame(hsu_restaurants, schema)"
   ]
  },
  {
   "cell_type": "code",
   "execution_count": 6,
   "metadata": {},
   "outputs": [
    {
     "name": "stdout",
     "output_type": "stream",
     "text": [
      "+---------------+----------+------------------------------+-----+\n",
      "|restaurant_name| specialty|                       address|score|\n",
      "+---------------+----------+------------------------------+-----+\n",
      "|       진현가든|삼치돌솥밥|      경기 오산시 양산로 340딩|  3.5|\n",
      "|     대광생막창|  돼지막창|       경기 화성시 한신대길 99|  4.0|\n",
      "|     찌개동아리|  제육전골|   경기 오산시 한신대133번길 4|  3.5|\n",
      "|       한판삼겹|    항정살|   경기 오산시 양산로410번길 8|  3.5|\n",
      "|           화락|      초밥|경기 오산시 양산로 347 대성...|  3.5|\n",
      "|         해우리|  해물라면|  경기 오산시 한신대길 135 1층|  4.5|\n",
      "|   행복한콩박사|맑은순두부|경기 오산시 양산로398번길 8-11|  3.5|\n",
      "+---------------+----------+------------------------------+-----+\n",
      "\n"
     ]
    }
   ],
   "source": [
    "# [+] 데이터프레임 출력\n",
    "df.show()"
   ]
  },
  {
   "cell_type": "code",
   "execution_count": 9,
   "metadata": {},
   "outputs": [
    {
     "name": "stdout",
     "output_type": "stream",
     "text": [
      "root\n",
      " |-- restaurant_name: string (nullable = true)\n",
      " |-- specialty: string (nullable = true)\n",
      " |-- address: string (nullable = true)\n",
      " |-- score: double (nullable = true)\n",
      "\n"
     ]
    }
   ],
   "source": [
    "# [+] 데이터프레임 스키마 출력\n",
    "df.printSchema()"
   ]
  },
  {
   "cell_type": "code",
   "execution_count": 11,
   "metadata": {},
   "outputs": [],
   "source": [
    "# [+] Temporary View 생성\n",
    "df.createOrReplaceTempView('restaurants')"
   ]
  },
  {
   "cell_type": "markdown",
   "metadata": {},
   "source": [
    "### User Defined Function 생성\n",
    "1. translate(): Google Translation API를 이용하여 한글 식당 이름을 영문으로 번역하는 함수\n",
    "2. scale_score(): 5점 만점 평점을 100점 스케일로 변환하는 함수"
   ]
  },
  {
   "cell_type": "code",
   "execution_count": 13,
   "metadata": {},
   "outputs": [
    {
     "name": "stdout",
     "output_type": "stream",
     "text": [
      "Requirement already satisfied: googletrans==4.0.0-rc1 in c:\\dev\\anaconda3\\lib\\site-packages (4.0.0rc1)\n",
      "Requirement already satisfied: httpx==0.13.3 in c:\\dev\\anaconda3\\lib\\site-packages (from googletrans==4.0.0-rc1) (0.13.3)\n",
      "Requirement already satisfied: idna==2.* in c:\\dev\\anaconda3\\lib\\site-packages (from httpx==0.13.3->googletrans==4.0.0-rc1) (2.10)\n",
      "Requirement already satisfied: chardet==3.* in c:\\dev\\anaconda3\\lib\\site-packages (from httpx==0.13.3->googletrans==4.0.0-rc1) (3.0.4)\n",
      "Requirement already satisfied: hstspreload in c:\\dev\\anaconda3\\lib\\site-packages (from httpx==0.13.3->googletrans==4.0.0-rc1) (2023.1.1)\n",
      "Requirement already satisfied: certifi in c:\\dev\\anaconda3\\lib\\site-packages (from httpx==0.13.3->googletrans==4.0.0-rc1) (2022.9.14)\n",
      "Requirement already satisfied: rfc3986<2,>=1.3 in c:\\dev\\anaconda3\\lib\\site-packages (from httpx==0.13.3->googletrans==4.0.0-rc1) (1.5.0)\n",
      "Requirement already satisfied: httpcore==0.9.* in c:\\dev\\anaconda3\\lib\\site-packages (from httpx==0.13.3->googletrans==4.0.0-rc1) (0.9.1)\n",
      "Requirement already satisfied: sniffio in c:\\dev\\anaconda3\\lib\\site-packages (from httpx==0.13.3->googletrans==4.0.0-rc1) (1.2.0)\n",
      "Requirement already satisfied: h2==3.* in c:\\dev\\anaconda3\\lib\\site-packages (from httpcore==0.9.*->httpx==0.13.3->googletrans==4.0.0-rc1) (3.2.0)\n",
      "Requirement already satisfied: h11<0.10,>=0.8 in c:\\dev\\anaconda3\\lib\\site-packages (from httpcore==0.9.*->httpx==0.13.3->googletrans==4.0.0-rc1) (0.9.0)\n",
      "Requirement already satisfied: hyperframe<6,>=5.2.0 in c:\\dev\\anaconda3\\lib\\site-packages (from h2==3.*->httpcore==0.9.*->httpx==0.13.3->googletrans==4.0.0-rc1) (5.2.0)\n",
      "Requirement already satisfied: hpack<4,>=3.0 in c:\\dev\\anaconda3\\lib\\site-packages (from h2==3.*->httpcore==0.9.*->httpx==0.13.3->googletrans==4.0.0-rc1) (3.0.0)\n"
     ]
    }
   ],
   "source": [
    "# Google translation 라이브러리 설치\n",
    "!pip install googletrans==4.0.0-rc1"
   ]
  },
  {
   "cell_type": "code",
   "execution_count": 14,
   "metadata": {},
   "outputs": [],
   "source": [
    "# Google translator 임포트\n",
    "from googletrans import Translator\n",
    "\n",
    "translator = Translator()"
   ]
  },
  {
   "cell_type": "code",
   "execution_count": 20,
   "metadata": {},
   "outputs": [
    {
     "name": "stdout",
     "output_type": "stream",
     "text": [
      "Translated(src=ko, dest=en, text=Stew, pronunciation=None, extra_data=\"{'confiden...\")\n"
     ]
    }
   ],
   "source": [
    "# 번역 테스트\n",
    "result = translator.translate(\"찌개 동아리\", src = 'ko', dest = 'en')\n",
    "print(result)"
   ]
  },
  {
   "cell_type": "code",
   "execution_count": 21,
   "metadata": {},
   "outputs": [
    {
     "data": {
      "text/plain": [
       "'Stew'"
      ]
     },
     "execution_count": 21,
     "metadata": {},
     "output_type": "execute_result"
    }
   ],
   "source": [
    "# [+] 번역 결과 출력\n",
    "result.text"
   ]
  },
  {
   "cell_type": "code",
   "execution_count": 22,
   "metadata": {},
   "outputs": [
    {
     "data": {
      "text/plain": [
       "{'confidence': None,\n",
       " 'parts': [<googletrans.models.TranslatedPart at 0x20934382400>],\n",
       " 'origin_pronunciation': 'jjigae dong-ali',\n",
       " 'parsed': [['jjigae dong-ali',\n",
       "   None,\n",
       "   None,\n",
       "   [[[0, [[[None, 6]], [True]]]], 6],\n",
       "   [['찌개 동아리', None, None, 6]],\n",
       "   None,\n",
       "   ['찌개 동아리', 'ko', 'en', True]],\n",
       "  [[[None,\n",
       "     None,\n",
       "     None,\n",
       "     None,\n",
       "     None,\n",
       "     [['Stew',\n",
       "       None,\n",
       "       None,\n",
       "       None,\n",
       "       [['Stew', [5], []], ['Stew club', [11], []]]]]]],\n",
       "   'en',\n",
       "   1,\n",
       "   'ko',\n",
       "   ['찌개 동아리', 'ko', 'en', True]],\n",
       "  'ko']}"
      ]
     },
     "execution_count": 22,
     "metadata": {},
     "output_type": "execute_result"
    }
   ],
   "source": [
    "# [+] extra_data 출력\n",
    "result.extra_data"
   ]
  },
  {
   "cell_type": "code",
   "execution_count": 23,
   "metadata": {},
   "outputs": [
    {
     "data": {
      "text/plain": [
       "'jjigae dong-ali'"
      ]
     },
     "execution_count": 23,
     "metadata": {},
     "output_type": "execute_result"
    }
   ],
   "source": [
    "# 영어 발음(pronunciation) 출력\n",
    "result.extra_data.get('origin_pronunciation')"
   ]
  },
  {
   "cell_type": "code",
   "execution_count": 24,
   "metadata": {},
   "outputs": [],
   "source": [
    "# UDF 1: 한글->영문 번역 함수\n",
    "def translate(text):\n",
    "    from googletrans import Translator\n",
    "    translator = Translator()\n",
    "    result = translator.translate(text, src = 'ko', dest = 'en')\n",
    "    return result.extra_data.get('origin_pronunciation')"
   ]
  },
  {
   "cell_type": "code",
   "execution_count": 25,
   "metadata": {},
   "outputs": [
    {
     "data": {
      "text/plain": [
       "<function __main__.translate(text)>"
      ]
     },
     "execution_count": 25,
     "metadata": {},
     "output_type": "execute_result"
    }
   ],
   "source": [
    "# UDF 등록\n",
    "spark.udf.register('translate', translate)"
   ]
  },
  {
   "cell_type": "code",
   "execution_count": 27,
   "metadata": {},
   "outputs": [
    {
     "name": "stdout",
     "output_type": "stream",
     "text": [
      "+---------------+--------------------+\n",
      "|restaurant_name|  restaurant_name_en|\n",
      "+---------------+--------------------+\n",
      "|       진현가든|      jinhyeongadeun|\n",
      "|     대광생막창|daegwangsaengmagc...|\n",
      "|     찌개동아리|      jjigaedong-ali|\n",
      "|       한판삼겹|      hanpansamgyeob|\n",
      "|           화락|              hwalag|\n",
      "|         해우리|              haeuli|\n",
      "|   행복한콩박사|haengboghankongbagsa|\n",
      "+---------------+--------------------+\n",
      "\n"
     ]
    }
   ],
   "source": [
    "# SQL문 처리\n",
    "spark.sql(\"SELECT restaurant_name, translate(restaurant_name) AS restaurant_name_en \\\n",
    "            FROM restaurants\").show()"
   ]
  },
  {
   "cell_type": "code",
   "execution_count": 29,
   "metadata": {},
   "outputs": [],
   "source": [
    "# Annotation 방식으로 UDF 등록하기\n",
    "from pyspark.sql.functions import udf"
   ]
  },
  {
   "cell_type": "code",
   "execution_count": 52,
   "metadata": {},
   "outputs": [],
   "source": [
    "# UDF 2: score -> 100점 스케일 변환 함수\n",
    "@udf('int')  # 리턴해주는 데이터 타입\n",
    "def scale_score(score):\n",
    "    return score * 20"
   ]
  },
  {
   "cell_type": "code",
   "execution_count": 53,
   "metadata": {},
   "outputs": [
    {
     "name": "stdout",
     "output_type": "stream",
     "text": [
      "+---------------+--------------------+----------+------------------------------+------------+\n",
      "|restaurant_name|  restaurant_name_en| specialty|                       address|score_scaled|\n",
      "+---------------+--------------------+----------+------------------------------+------------+\n",
      "|       진현가든|      jinhyeongadeun|삼치돌솥밥|      경기 오산시 양산로 340딩|        70.0|\n",
      "|     대광생막창|daegwangsaengmagc...|  돼지막창|       경기 화성시 한신대길 99|        80.0|\n",
      "|     찌개동아리|      jjigaedong-ali|  제육전골|   경기 오산시 한신대133번길 4|        70.0|\n",
      "|       한판삼겹|      hanpansamgyeob|    항정살|   경기 오산시 양산로410번길 8|        70.0|\n",
      "|           화락|              hwalag|      초밥|경기 오산시 양산로 347 대성...|        70.0|\n",
      "|         해우리|              haeuli|  해물라면|  경기 오산시 한신대길 135 1층|        90.0|\n",
      "|   행복한콩박사|haengboghankongbagsa|맑은순두부|경기 오산시 양산로398번길 8-11|        70.0|\n",
      "+---------------+--------------------+----------+------------------------------+------------+\n",
      "\n"
     ]
    }
   ],
   "source": [
    "# SQL문처리\n",
    "spark.sql(\"SELECT restaurant_name, translate(restaurant_name) AS restaurant_name_en, \\\n",
    "            specialty, address, scale_score(score) AS score_scaled \\\n",
    "            FROM restaurants\").show()"
   ]
  }
 ],
 "metadata": {
  "kernelspec": {
   "display_name": "Python 3 (ipykernel)",
   "language": "python",
   "name": "python3"
  },
  "language_info": {
   "codemirror_mode": {
    "name": "ipython",
    "version": 3
   },
   "file_extension": ".py",
   "mimetype": "text/x-python",
   "name": "python",
   "nbconvert_exporter": "python",
   "pygments_lexer": "ipython3",
   "version": "3.9.13"
  }
 },
 "nbformat": 4,
 "nbformat_minor": 4
}
