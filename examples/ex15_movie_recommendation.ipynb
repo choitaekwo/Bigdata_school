{
 "cells": [
  {
   "cell_type": "markdown",
   "id": "bc1e5b83",
   "metadata": {},
   "source": [
    "## MLlib으로 영화 추천 알고리즘 구현하기\n",
    "+ 데이터셋: MovieLens(2500만개 영화 평점 데이터), 본 예제에서는 7만개의 데이터만 사용 ```ratings_short.csv```\n",
    "+ 추천 알고리즘: Alternating Least Squares (ALS)"
   ]
  },
  {
   "cell_type": "markdown",
   "id": "37f7daba-12d1-490c-969b-67f4960e5c90",
   "metadata": {},
   "source": [
    "---"
   ]
  },
  {
   "cell_type": "markdown",
   "id": "cfa68dfb-a0bc-4b4a-88d0-894ddb4dac10",
   "metadata": {},
   "source": [
    "### 1. 영화 평점 데이터 불러오기 & 데이터프레임 생성하기"
   ]
  },
  {
   "cell_type": "code",
   "execution_count": 1,
   "id": "faf87ab9",
   "metadata": {
    "tags": []
   },
   "outputs": [],
   "source": [
    "# [+] SparkSession 설정\n",
    "import findspark\n",
    "findspark.init()\n",
    "\n",
    "from pyspark.sql import SparkSession\n",
    "\n",
    "# [+] SparkSession 객체 생성 및 설정\n",
    "spark = SparkSession.builder.master('local').appName('mllib-movie').getOrCreate()"
   ]
  },
  {
   "cell_type": "markdown",
   "id": "2d32e235-7181-4dfe-aa27-0c5bc6b430ff",
   "metadata": {
    "tags": []
   },
   "source": [
    "#### movielens 데이터 불러오기\n",
    "+ 파일명: ```ratings_short.csv```\n",
    "+ 스키마 설정: ```inferSchema=True```\n",
    "+ 헤더 사용: ```header=True```"
   ]
  },
  {
   "cell_type": "code",
   "execution_count": 5,
   "id": "e06ea6ed-0ea4-4507-a8fa-33576f3a7e4a",
   "metadata": {},
   "outputs": [],
   "source": [
    "# [+] movielens 데이터 불러오기\n",
    "path = './data/'\n",
    "file = 'ratings_short.csv'\n",
    "\n",
    "ratings_df = spark.read.csv(path + file, inferSchema=True, header=True)"
   ]
  },
  {
   "cell_type": "code",
   "execution_count": 6,
   "id": "26db9ac1",
   "metadata": {
    "tags": []
   },
   "outputs": [
    {
     "name": "stdout",
     "output_type": "stream",
     "text": [
      "+------+-------+------+----------+\n",
      "|userId|movieId|rating| timestamp|\n",
      "+------+-------+------+----------+\n",
      "|     1|    296|   5.0|1147880044|\n",
      "|     1|    306|   3.5|1147868817|\n",
      "|     1|    307|   5.0|1147868828|\n",
      "|     1|    665|   5.0|1147878820|\n",
      "|     1|    899|   3.5|1147868510|\n",
      "|     1|   1088|   4.0|1147868495|\n",
      "|     1|   1175|   3.5|1147868826|\n",
      "|     1|   1217|   3.5|1147878326|\n",
      "|     1|   1237|   5.0|1147868839|\n",
      "|     1|   1250|   4.0|1147868414|\n",
      "|     1|   1260|   3.5|1147877857|\n",
      "|     1|   1653|   4.0|1147868097|\n",
      "|     1|   2011|   2.5|1147868079|\n",
      "|     1|   2012|   2.5|1147868068|\n",
      "|     1|   2068|   2.5|1147869044|\n",
      "|     1|   2161|   3.5|1147868609|\n",
      "|     1|   2351|   4.5|1147877957|\n",
      "|     1|   2573|   4.0|1147878923|\n",
      "|     1|   2632|   5.0|1147878248|\n",
      "|     1|   2692|   5.0|1147869100|\n",
      "+------+-------+------+----------+\n",
      "only showing top 20 rows\n",
      "\n"
     ]
    }
   ],
   "source": [
    "# [+] 데이터프레임 출력\n",
    "ratings_df.show()"
   ]
  },
  {
   "cell_type": "code",
   "execution_count": 7,
   "id": "2cc2e1f3",
   "metadata": {
    "tags": []
   },
   "outputs": [
    {
     "name": "stdout",
     "output_type": "stream",
     "text": [
      "root\n",
      " |-- userId: integer (nullable = true)\n",
      " |-- movieId: integer (nullable = true)\n",
      " |-- rating: double (nullable = true)\n",
      " |-- timestamp: integer (nullable = true)\n",
      "\n"
     ]
    }
   ],
   "source": [
    "# [+] 데이터프레임 스키마 출력\n",
    "ratings_df.printSchema()"
   ]
  },
  {
   "cell_type": "code",
   "execution_count": 8,
   "id": "c812437a",
   "metadata": {
    "tags": []
   },
   "outputs": [],
   "source": [
    "# 타임스탬프를 제외한 컬럼 선택\n",
    "ratings_df = ratings_df.select(['userId', 'movieId', 'rating'])"
   ]
  },
  {
   "cell_type": "code",
   "execution_count": 10,
   "id": "d0fe273c",
   "metadata": {
    "tags": []
   },
   "outputs": [
    {
     "name": "stdout",
     "output_type": "stream",
     "text": [
      "+-------+------------------+\n",
      "|summary|            rating|\n",
      "+-------+------------------+\n",
      "|  count|             71921|\n",
      "|   mean|3.5821387355570695|\n",
      "| stddev| 1.042406032579843|\n",
      "|    min|               0.5|\n",
      "|    max|               5.0|\n",
      "+-------+------------------+\n",
      "\n"
     ]
    }
   ],
   "source": [
    "# describe(): 기술 통계량 출력\n",
    "ratings_df.select('rating').describe().show()"
   ]
  },
  {
   "cell_type": "markdown",
   "id": "a18c987a-06b3-47df-af97-d79d58849c55",
   "metadata": {
    "tags": []
   },
   "source": [
    "### 2. 훈련 데이터 준비 및 영화 추천 모델 학습"
   ]
  },
  {
   "cell_type": "code",
   "execution_count": 11,
   "id": "b5fbb44d",
   "metadata": {
    "tags": []
   },
   "outputs": [],
   "source": [
    "# randomSplit(): 훈련 데이터셋과 테스트 데이터셋을 나누기\n",
    "train_df, test_df = ratings_df.randomSplit([0.8, 0.2])"
   ]
  },
  {
   "cell_type": "code",
   "execution_count": 12,
   "id": "987e4fb5",
   "metadata": {
    "tags": []
   },
   "outputs": [],
   "source": [
    "# 추천 알고리즘(Alternating Least Squares) 임포트\n",
    "from  pyspark.ml.recommendation import ALS"
   ]
  },
  {
   "cell_type": "markdown",
   "id": "cefaa37a-cc00-4a4d-baf1-595711e07bc8",
   "metadata": {},
   "source": [
    "#### 추천 알고리즘 초매개변수 설정\n",
    "+ ```maxIter```: 최대 학습 반복 횟수\n",
    "+ ```regParam```: 정규화 매개변수(범위: 0~1)\n",
    "+ ```coldStartStrategy```: 데이터가 부족한 신규 유저 및 아이템에 대한 예측 문제(Cold Start)를 처리하는 방식이며 ```drop```값은 해당 데이터를 모델 학습 과정에서 배제"
   ]
  },
  {
   "cell_type": "code",
   "execution_count": 14,
   "id": "96f20b1d",
   "metadata": {
    "tags": []
   },
   "outputs": [],
   "source": [
    "# 추천 알고리즘 초매개변수 설정\n",
    "\n",
    "als = ALS(\n",
    "    maxIter=5,\n",
    "    regParam=0.1,\n",
    "    userCol='userId',\n",
    "    itemCol='movieId',\n",
    "    ratingCol='rating',\n",
    "    coldStartStrategy='drop'\n",
    ")"
   ]
  },
  {
   "cell_type": "code",
   "execution_count": 15,
   "id": "037ebe26",
   "metadata": {
    "tags": []
   },
   "outputs": [],
   "source": [
    "# [+] 모델 학습\n",
    "model = als.fit(train_df)"
   ]
  },
  {
   "cell_type": "code",
   "execution_count": null,
   "id": "a1882b8a",
   "metadata": {},
   "outputs": [],
   "source": [
    "# # 메모리 부족으로 인한 오류 발생시, 아래의 코드를 실행\n",
    "# from pyspark.sql import SparkSession\n",
    "\n",
    "# MAX_MEMORY = '5g'\n",
    "# spark = SparkSession.builder.appName('movie-recommendation')\\\n",
    "#     .config('spark.executor.memory', MAX_MEMORY)\\\n",
    "#     .config('spark.driver.memory', MAX_MEMORY)\\\n",
    "#     .getOrCreate()"
   ]
  },
  {
   "cell_type": "code",
   "execution_count": 17,
   "id": "114f9a40",
   "metadata": {
    "tags": []
   },
   "outputs": [],
   "source": [
    "# [+] 모델 예측\n",
    "predictions = model.transform(test_df)"
   ]
  },
  {
   "cell_type": "code",
   "execution_count": 18,
   "id": "07a8f368",
   "metadata": {
    "tags": []
   },
   "outputs": [
    {
     "name": "stdout",
     "output_type": "stream",
     "text": [
      "+------+-------+------+----------+\n",
      "|userId|movieId|rating|prediction|\n",
      "+------+-------+------+----------+\n",
      "|   148|     19|   3.0| 2.8600545|\n",
      "|   148|     32|   4.0| 3.9757197|\n",
      "|   148|     50|   4.5|  4.486109|\n",
      "|   148|    527|   5.0|   4.36725|\n",
      "|   148|    912|   4.0| 4.2792554|\n",
      "|   148|   1172|   4.5|  3.907507|\n",
      "|   148|   1178|   5.0| 4.1054544|\n",
      "|   148|   1196|   3.5|  4.102692|\n",
      "|   148|   1199|   3.5| 3.9058423|\n",
      "|   148|   1206|   4.0|   4.00924|\n",
      "|   148|   1207|   4.0|  4.291973|\n",
      "|   148|   1217|   3.5|  4.377297|\n",
      "|   148|   1234|   4.5| 4.1506653|\n",
      "|   148|   1250|   4.0| 4.0075674|\n",
      "|   148|   1284|   4.0|  3.935092|\n",
      "|   148|   1292|   3.5| 3.9180844|\n",
      "|   148|   1617|   4.0| 4.2387466|\n",
      "|   148|   2329|   4.0| 4.2994995|\n",
      "|   148|   2858|   4.0|  4.239336|\n",
      "|   148|   3435|   4.5| 4.0150285|\n",
      "+------+-------+------+----------+\n",
      "only showing top 20 rows\n",
      "\n"
     ]
    }
   ],
   "source": [
    "# [+] 예측값 출력\n",
    "predictions.show()"
   ]
  },
  {
   "cell_type": "code",
   "execution_count": 19,
   "id": "065a7c78",
   "metadata": {
    "tags": []
   },
   "outputs": [
    {
     "name": "stdout",
     "output_type": "stream",
     "text": [
      "+-------+------------------+------------------+\n",
      "|summary|            rating|        prediction|\n",
      "+-------+------------------+------------------+\n",
      "|  count|             13487|             13487|\n",
      "|   mean|  3.60295098984207| 3.420315276778079|\n",
      "| stddev|1.0371921961158144|0.7559795884305968|\n",
      "|    min|               0.5|        0.11918053|\n",
      "|    max|               5.0|         5.5110316|\n",
      "+-------+------------------+------------------+\n",
      "\n"
     ]
    }
   ],
   "source": [
    "# [+] 평점과 예측평점에 대한 통계 출력\n",
    "predictions.select('rating', 'prediction').describe().show()"
   ]
  },
  {
   "cell_type": "code",
   "execution_count": 20,
   "id": "31ba8ac5",
   "metadata": {
    "tags": []
   },
   "outputs": [],
   "source": [
    "# 모델 성능 평가: RMSE(Root Mean Squared Error)\n",
    "from pyspark.ml.evaluation import RegressionEvaluator\n",
    "\n",
    "evaluator = RegressionEvaluator(\n",
    "    metricName='rmse',\n",
    "    labelCol='rating',\n",
    "    predictionCol='prediction'\n",
    ")"
   ]
  },
  {
   "cell_type": "code",
   "execution_count": 21,
   "id": "9c4ab50b",
   "metadata": {
    "tags": []
   },
   "outputs": [],
   "source": [
    "# RMSE 측정\n",
    "rmse = evaluator.evaluate(predictions)"
   ]
  },
  {
   "cell_type": "code",
   "execution_count": 22,
   "id": "ce75da9f",
   "metadata": {
    "tags": []
   },
   "outputs": [
    {
     "data": {
      "text/plain": [
       "0.9122050030430022"
      ]
     },
     "execution_count": 22,
     "metadata": {},
     "output_type": "execute_result"
    }
   ],
   "source": [
    "rmse"
   ]
  },
  {
   "cell_type": "markdown",
   "id": "78e2baa3-640b-489d-863e-53ad1c386d44",
   "metadata": {},
   "source": [
    "### 3. 학습된 모델을 이용한 영화 추천\n",
    "+ ```recommendForAllUsers()```: 유저별 아이템 추천\n",
    "+ ```recommendForAllItems()```: 아이템별 유저 추천\n",
    "+ ```recommendForUserSubset()```: 특정 유저 그룹에 대한 아이템 추천"
   ]
  },
  {
   "cell_type": "code",
   "execution_count": 24,
   "id": "31cfbac6",
   "metadata": {
    "tags": []
   },
   "outputs": [
    {
     "name": "stdout",
     "output_type": "stream",
     "text": [
      "+------+--------------------+\n",
      "|userId|     recommendations|\n",
      "+------+--------------------+\n",
      "|     1|[{69699, 5.187405...|\n",
      "|     2|[{1226, 5.645141}...|\n",
      "|     3|[{38095, 4.869428...|\n",
      "|     4|[{8235, 5.2967744...|\n",
      "|     5|[{55814, 5.009750...|\n",
      "|     6|[{38095, 5.192246...|\n",
      "|     7|[{4546, 5.019621}...|\n",
      "|     8|[{6188, 4.9620185...|\n",
      "|     9|[{60103, 5.485226...|\n",
      "|    10|[{160718, 4.73979...|\n",
      "|    11|[{59725, 5.012532...|\n",
      "|    12|[{3470, 4.891706}...|\n",
      "|    13|[{136449, 5.28848...|\n",
      "|    14|[{6286, 5.4066854...|\n",
      "|    15|[{160718, 5.80492...|\n",
      "|    16|[{7099, 5.2134285...|\n",
      "|    17|[{8958, 4.6497145...|\n",
      "|    18|[{3179, 5.010684}...|\n",
      "|    19|[{141432, 4.90274...|\n",
      "|    20|[{38095, 5.351368...|\n",
      "+------+--------------------+\n",
      "only showing top 20 rows\n",
      "\n"
     ]
    }
   ],
   "source": [
    "# 유저별 아이템을 3개씩 추천\n",
    "model.recommendForAllUsers(3).show()"
   ]
  },
  {
   "cell_type": "code",
   "execution_count": 25,
   "id": "a1ea9ac3",
   "metadata": {
    "tags": []
   },
   "outputs": [
    {
     "name": "stdout",
     "output_type": "stream",
     "text": [
      "+-------+--------------------+\n",
      "|movieId|     recommendations|\n",
      "+-------+--------------------+\n",
      "|      1|[{327, 5.3840566}...|\n",
      "|      2|[{327, 4.7976213}...|\n",
      "|      3|[{484, 4.7779408}...|\n",
      "|      4|[{173, 4.541672},...|\n",
      "|      5|[{484, 4.513037},...|\n",
      "|      6|[{539, 4.898551},...|\n",
      "|      7|[{484, 4.9674277}...|\n",
      "|      8|[{448, 4.6179695}...|\n",
      "|      9|[{198, 4.599905},...|\n",
      "|     10|[{327, 4.755638},...|\n",
      "|     11|[{484, 5.0589147}...|\n",
      "|     12|[{198, 4.7528453}...|\n",
      "|     13|[{327, 5.4825606}...|\n",
      "|     14|[{448, 5.1150827}...|\n",
      "|     15|[{474, 4.3613715}...|\n",
      "|     16|[{28, 5.339954}, ...|\n",
      "|     17|[{87, 5.3824453},...|\n",
      "|     18|[{474, 4.8556476}...|\n",
      "|     19|[{428, 4.763089},...|\n",
      "|     20|[{484, 4.5239925}...|\n",
      "+-------+--------------------+\n",
      "only showing top 20 rows\n",
      "\n"
     ]
    }
   ],
   "source": [
    "# 아이템별 유저를 3명씩 추천\n",
    "model.recommendForAllItems(3).show()"
   ]
  },
  {
   "cell_type": "code",
   "execution_count": 26,
   "id": "d8870387",
   "metadata": {
    "tags": []
   },
   "outputs": [],
   "source": [
    "# 특정 유저 선택\n",
    "user_lst = [1]"
   ]
  },
  {
   "cell_type": "code",
   "execution_count": 27,
   "id": "8428eb11-37c0-4aff-83a3-0276119effc3",
   "metadata": {
    "tags": []
   },
   "outputs": [],
   "source": [
    "from pyspark.sql.types import IntegerType"
   ]
  },
  {
   "cell_type": "code",
   "execution_count": 28,
   "id": "52961c14",
   "metadata": {
    "tags": []
   },
   "outputs": [],
   "source": [
    "# 데이터프레임 생성\n",
    "users_df = spark.createDataFrame(user_lst, IntegerType()).toDF('userID')"
   ]
  },
  {
   "cell_type": "code",
   "execution_count": 29,
   "id": "775e13ed",
   "metadata": {
    "tags": []
   },
   "outputs": [
    {
     "name": "stdout",
     "output_type": "stream",
     "text": [
      "+------+\n",
      "|userID|\n",
      "+------+\n",
      "|     1|\n",
      "+------+\n",
      "\n"
     ]
    }
   ],
   "source": [
    "users_df.show()"
   ]
  },
  {
   "cell_type": "code",
   "execution_count": 30,
   "id": "57c5a83a",
   "metadata": {
    "tags": []
   },
   "outputs": [],
   "source": [
    "# recommendForUserSubset(): 특정 유저 그룹에 대한 아이템 추천\n",
    "user_recs = model.recommendForUserSubset(users_df, 5)"
   ]
  },
  {
   "cell_type": "code",
   "execution_count": 31,
   "id": "fe0d5794",
   "metadata": {
    "tags": []
   },
   "outputs": [
    {
     "name": "stdout",
     "output_type": "stream",
     "text": [
      "+------+--------------------+\n",
      "|userId|     recommendations|\n",
      "+------+--------------------+\n",
      "|     1|[{69699, 5.187405...|\n",
      "+------+--------------------+\n",
      "\n"
     ]
    }
   ],
   "source": [
    "user_recs.show()"
   ]
  },
  {
   "cell_type": "code",
   "execution_count": 32,
   "id": "9ad7f130-eaf8-4043-9dd4-0cb81fdfa4ec",
   "metadata": {},
   "outputs": [
    {
     "data": {
      "text/plain": [
       "[Row(userId=1, recommendations=[Row(movieId=69699, rating=5.187405109405518), Row(movieId=101070, rating=5.082510948181152), Row(movieId=8327, rating=5.021006107330322), Row(movieId=2632, rating=4.963029861450195), Row(movieId=5767, rating=4.963029861450195)])]"
      ]
     },
     "execution_count": 32,
     "metadata": {},
     "output_type": "execute_result"
    }
   ],
   "source": [
    "user_recs.collect()"
   ]
  },
  {
   "cell_type": "code",
   "execution_count": 33,
   "id": "ffe850a7",
   "metadata": {
    "tags": []
   },
   "outputs": [],
   "source": [
    "# 추천결과를 파이썬 객체로 받아오기\n",
    "movies_lst = user_recs.collect()[0].recommendations"
   ]
  },
  {
   "cell_type": "code",
   "execution_count": 34,
   "id": "9929874c",
   "metadata": {
    "tags": []
   },
   "outputs": [
    {
     "data": {
      "text/plain": [
       "[Row(movieId=69699, rating=5.187405109405518),\n",
       " Row(movieId=101070, rating=5.082510948181152),\n",
       " Row(movieId=8327, rating=5.021006107330322),\n",
       " Row(movieId=2632, rating=4.963029861450195),\n",
       " Row(movieId=5767, rating=4.963029861450195)]"
      ]
     },
     "execution_count": 34,
     "metadata": {},
     "output_type": "execute_result"
    }
   ],
   "source": [
    "movies_lst"
   ]
  },
  {
   "cell_type": "code",
   "execution_count": 35,
   "id": "243bf36e",
   "metadata": {
    "tags": []
   },
   "outputs": [
    {
     "name": "stdout",
     "output_type": "stream",
     "text": [
      "+-------+-----------------+\n",
      "|movieId|           rating|\n",
      "+-------+-----------------+\n",
      "|  69699|5.187405109405518|\n",
      "| 101070|5.082510948181152|\n",
      "|   8327|5.021006107330322|\n",
      "|   2632|4.963029861450195|\n",
      "|   5767|4.963029861450195|\n",
      "+-------+-----------------+\n",
      "\n"
     ]
    }
   ],
   "source": [
    "# movies_lst에 대한 데이터프레임 생성\n",
    "recs_df = spark.createDataFrame(movies_lst)\n",
    "recs_df.show()"
   ]
  },
  {
   "cell_type": "code",
   "execution_count": 36,
   "id": "6d7d6336",
   "metadata": {
    "tags": []
   },
   "outputs": [],
   "source": [
    "# [+] 영화 데이터에 대한 데이터프레임 생성\n",
    "\n",
    "file = 'movies.csv'\n",
    "\n",
    "movies_df = spark.read.csv(path + file, inferSchema=True, header=True)\n"
   ]
  },
  {
   "cell_type": "code",
   "execution_count": 37,
   "id": "21c70cb9-6204-4c85-8f4f-81610d32e55a",
   "metadata": {},
   "outputs": [
    {
     "name": "stdout",
     "output_type": "stream",
     "text": [
      "+-------+--------------------+--------------------+\n",
      "|movieId|               title|              genres|\n",
      "+-------+--------------------+--------------------+\n",
      "|      1|    Toy Story (1995)|Adventure|Animati...|\n",
      "|      2|      Jumanji (1995)|Adventure|Childre...|\n",
      "|      3|Grumpier Old Men ...|      Comedy|Romance|\n",
      "|      4|Waiting to Exhale...|Comedy|Drama|Romance|\n",
      "|      5|Father of the Bri...|              Comedy|\n",
      "|      6|         Heat (1995)|Action|Crime|Thri...|\n",
      "|      7|      Sabrina (1995)|      Comedy|Romance|\n",
      "|      8| Tom and Huck (1995)|  Adventure|Children|\n",
      "|      9| Sudden Death (1995)|              Action|\n",
      "|     10|    GoldenEye (1995)|Action|Adventure|...|\n",
      "|     11|American Presiden...|Comedy|Drama|Romance|\n",
      "|     12|Dracula: Dead and...|       Comedy|Horror|\n",
      "|     13|        Balto (1995)|Adventure|Animati...|\n",
      "|     14|        Nixon (1995)|               Drama|\n",
      "|     15|Cutthroat Island ...|Action|Adventure|...|\n",
      "|     16|       Casino (1995)|         Crime|Drama|\n",
      "|     17|Sense and Sensibi...|       Drama|Romance|\n",
      "|     18|   Four Rooms (1995)|              Comedy|\n",
      "|     19|Ace Ventura: When...|              Comedy|\n",
      "|     20|  Money Train (1995)|Action|Comedy|Cri...|\n",
      "+-------+--------------------+--------------------+\n",
      "only showing top 20 rows\n",
      "\n"
     ]
    }
   ],
   "source": [
    "movies_df.show()"
   ]
  },
  {
   "cell_type": "code",
   "execution_count": 39,
   "id": "c8b591ed",
   "metadata": {
    "tags": []
   },
   "outputs": [],
   "source": [
    "# [+] recs_df, movies_df 에 대한 Temporary View 생성\n",
    "recs_df.createOrReplaceTempView('recommendations')\n",
    "movies_df.createOrReplaceTempView('movies')"
   ]
  },
  {
   "cell_type": "code",
   "execution_count": 40,
   "id": "f74abf23",
   "metadata": {
    "tags": []
   },
   "outputs": [
    {
     "name": "stdout",
     "output_type": "stream",
     "text": [
      "+-------+--------------------+--------------------+-------+-----------------+\n",
      "|movieId|               title|              genres|movieId|           rating|\n",
      "+-------+--------------------+--------------------+-------+-----------------+\n",
      "|  69699| Love Streams (1984)|        Comedy|Drama|  69699|5.187405109405518|\n",
      "| 101070|       Wadjda (2012)|               Drama| 101070|5.082510948181152|\n",
      "|   8327|        Dolls (2002)|       Drama|Romance|   8327|5.021006107330322|\n",
      "|   2632|Saragossa Manuscr...|Adventure|Drama|M...|   2632|4.963029861450195|\n",
      "|   5767|Teddy Bear (Mis) ...|        Comedy|Crime|   5767|4.963029861450195|\n",
      "+-------+--------------------+--------------------+-------+-----------------+\n",
      "\n"
     ]
    }
   ],
   "source": [
    "# SQL JOIN 연산을 통해 추천된 영화 제목 받아오기\n",
    "spark.sql(\n",
    "    \"SELECT * \\\n",
    "    FROM movies JOIN recommendations \\\n",
    "    ON movies.movieID = recommendations.movieID \\\n",
    "    ORDER BY rating DESC\"\n",
    ").show()"
   ]
  },
  {
   "cell_type": "markdown",
   "id": "446de3c0-6d23-41b4-9a56-50a73b4aa3ec",
   "metadata": {},
   "source": [
    "### 4. 유저 별 영화 추천 서비스를 간단하게 구현하기\n",
    "1. SQL문 작성\n",
    "2. 영화 추천 함수 작성\n",
    "3. 영화 추천 테스트"
   ]
  },
  {
   "cell_type": "code",
   "execution_count": 41,
   "id": "11db56a9",
   "metadata": {
    "tags": []
   },
   "outputs": [],
   "source": [
    "# SQL JOIN 연산을 통해 추천된 영화 제목 받아오기\n",
    "query = \"\"\"\n",
    "SELECT * \n",
    "FROM movies JOIN recommendations \n",
    "ON movies.movieID = recommendations.movieID\n",
    "ORDER BY rating DESC\n",
    "\"\"\""
   ]
  },
  {
   "cell_type": "code",
   "execution_count": 42,
   "id": "75a890f4",
   "metadata": {
    "tags": []
   },
   "outputs": [],
   "source": [
    "# 입력된 유저에 대한 영화 추천 함수\n",
    "def get_recommendations(user_id, num_recs):\n",
    "    users_df = spark.createDataFrame([user_id], IntegerType()).toDF('userID')\n",
    "    users_recs_df = model.recommendForUserSubset(users_df, num_recs)\n",
    "    \n",
    "    recs_lst = users_recs_df.collect()[0].recommendations\n",
    "    recs_df = spark.createDataFrame(recs_lst)\n",
    "    recs_df.createOrReplaceTempView('recommendations')\n",
    "\n",
    "    recommended_movies = spark.sql(query)\n",
    "    \n",
    "    return recommended_movies"
   ]
  },
  {
   "cell_type": "code",
   "execution_count": 43,
   "id": "a11e869c",
   "metadata": {
    "tags": []
   },
   "outputs": [],
   "source": [
    "# 1번 유저에 대한 영화 5개 추천\n",
    "recs = get_recommendations(395, 5)"
   ]
  },
  {
   "cell_type": "code",
   "execution_count": 44,
   "id": "3843d030-c72e-448c-afe1-fe0378516211",
   "metadata": {
    "tags": []
   },
   "outputs": [
    {
     "name": "stdout",
     "output_type": "stream",
     "text": [
      "+-------+--------------------+--------------------+-------+-----------------+\n",
      "|movieId|               title|              genres|movieId|           rating|\n",
      "+-------+--------------------+--------------------+-------+-----------------+\n",
      "|   8253|Lupin III: The Ca...|Action|Adventure|...|   8253|5.778921127319336|\n",
      "|   2660|Thing from Anothe...|       Horror|Sci-Fi|   2660|5.524172782897949|\n",
      "|   7072|   Stagecoach (1939)|Action|Drama|Roma...|   7072|5.524172782897949|\n",
      "| 142871|O Pátio das Canti...|              Comedy| 142871|5.448753356933594|\n",
      "|  37495|Survive Style 5+ ...|Fantasy|Mystery|R...|  37495|5.448753356933594|\n",
      "+-------+--------------------+--------------------+-------+-----------------+\n",
      "\n"
     ]
    }
   ],
   "source": [
    "# 추천 결과 출력\n",
    "recs.show()"
   ]
  },
  {
   "cell_type": "code",
   "execution_count": 45,
   "id": "074db94c",
   "metadata": {
    "tags": []
   },
   "outputs": [
    {
     "data": {
      "text/html": [
       "<div>\n",
       "<style scoped>\n",
       "    .dataframe tbody tr th:only-of-type {\n",
       "        vertical-align: middle;\n",
       "    }\n",
       "\n",
       "    .dataframe tbody tr th {\n",
       "        vertical-align: top;\n",
       "    }\n",
       "\n",
       "    .dataframe thead th {\n",
       "        text-align: right;\n",
       "    }\n",
       "</style>\n",
       "<table border=\"1\" class=\"dataframe\">\n",
       "  <thead>\n",
       "    <tr style=\"text-align: right;\">\n",
       "      <th></th>\n",
       "      <th>movieId</th>\n",
       "      <th>title</th>\n",
       "      <th>genres</th>\n",
       "      <th>movieId</th>\n",
       "      <th>rating</th>\n",
       "    </tr>\n",
       "  </thead>\n",
       "  <tbody>\n",
       "    <tr>\n",
       "      <th>0</th>\n",
       "      <td>8253</td>\n",
       "      <td>Lupin III: The Castle Of Cagliostro (Rupan san...</td>\n",
       "      <td>Action|Adventure|Animation|Comedy|Crime|Mystery</td>\n",
       "      <td>8253</td>\n",
       "      <td>5.778921</td>\n",
       "    </tr>\n",
       "    <tr>\n",
       "      <th>1</th>\n",
       "      <td>7072</td>\n",
       "      <td>Stagecoach (1939)</td>\n",
       "      <td>Action|Drama|Romance|Western</td>\n",
       "      <td>7072</td>\n",
       "      <td>5.524173</td>\n",
       "    </tr>\n",
       "    <tr>\n",
       "      <th>2</th>\n",
       "      <td>2660</td>\n",
       "      <td>Thing from Another World, The (1951)</td>\n",
       "      <td>Horror|Sci-Fi</td>\n",
       "      <td>2660</td>\n",
       "      <td>5.524173</td>\n",
       "    </tr>\n",
       "    <tr>\n",
       "      <th>3</th>\n",
       "      <td>142871</td>\n",
       "      <td>O Pátio das Cantigas (1942)</td>\n",
       "      <td>Comedy</td>\n",
       "      <td>142871</td>\n",
       "      <td>5.448753</td>\n",
       "    </tr>\n",
       "    <tr>\n",
       "      <th>4</th>\n",
       "      <td>37495</td>\n",
       "      <td>Survive Style 5+ (2004)</td>\n",
       "      <td>Fantasy|Mystery|Romance|Thriller</td>\n",
       "      <td>37495</td>\n",
       "      <td>5.448753</td>\n",
       "    </tr>\n",
       "  </tbody>\n",
       "</table>\n",
       "</div>"
      ],
      "text/plain": [
       "   movieId                                              title  \\\n",
       "0     8253  Lupin III: The Castle Of Cagliostro (Rupan san...   \n",
       "1     7072                                  Stagecoach (1939)   \n",
       "2     2660               Thing from Another World, The (1951)   \n",
       "3   142871                        O Pátio das Cantigas (1942)   \n",
       "4    37495                            Survive Style 5+ (2004)   \n",
       "\n",
       "                                            genres  movieId    rating  \n",
       "0  Action|Adventure|Animation|Comedy|Crime|Mystery     8253  5.778921  \n",
       "1                     Action|Drama|Romance|Western     7072  5.524173  \n",
       "2                                    Horror|Sci-Fi     2660  5.524173  \n",
       "3                                           Comedy   142871  5.448753  \n",
       "4                 Fantasy|Mystery|Romance|Thriller    37495  5.448753  "
      ]
     },
     "execution_count": 45,
     "metadata": {},
     "output_type": "execute_result"
    }
   ],
   "source": [
    "# toPandas(): Pandas 데이터프레임으로 출력\n",
    "recs.toPandas()"
   ]
  }
 ],
 "metadata": {
  "kernelspec": {
   "display_name": "Python 3 (ipykernel)",
   "language": "python",
   "name": "python3"
  },
  "language_info": {
   "codemirror_mode": {
    "name": "ipython",
    "version": 3
   },
   "file_extension": ".py",
   "mimetype": "text/x-python",
   "name": "python",
   "nbconvert_exporter": "python",
   "pygments_lexer": "ipython3",
   "version": "3.9.13"
  }
 },
 "nbformat": 4,
 "nbformat_minor": 5
}
