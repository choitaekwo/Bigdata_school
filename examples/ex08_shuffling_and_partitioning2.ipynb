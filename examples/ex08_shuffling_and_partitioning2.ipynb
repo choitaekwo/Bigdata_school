{
 "cells": [
  {
   "cell_type": "markdown",
   "metadata": {},
   "source": [
    "### 1. PySpark 시작 및 데이터셋 로딩\n",
    "+ App name: shuffling-and-partitioning"
   ]
  },
  {
   "cell_type": "code",
   "execution_count": 4,
   "metadata": {
    "tags": []
   },
   "outputs": [],
   "source": [
    "# [+] PySpark 시작\n",
    "import findspark\n",
    "findspark.init()\n",
    "\n",
    "from pyspark import SparkConf, SparkContext\n",
    "conf = SparkConf().setMaster(\"local\").setAppName(\"shffuling_and_partition\")\n",
    "sc = SparkContext(conf = conf)"
   ]
  },
  {
   "cell_type": "code",
   "execution_count": 6,
   "metadata": {
    "tags": []
   },
   "outputs": [],
   "source": [
    "# 데이터셋 경로 및 파일 이름\n",
    "path = \"./data/\"\n",
    "filename = \"fhvhv_tripdata_2020-03_short.csv\""
   ]
  },
  {
   "cell_type": "code",
   "execution_count": 8,
   "metadata": {
    "tags": []
   },
   "outputs": [],
   "source": [
    "# [+] 데이터셋 로딩 및 헤더 추출\n",
    "lines = sc.textFile(path + filename)\n",
    "header = lines.first()"
   ]
  },
  {
   "cell_type": "code",
   "execution_count": 9,
   "metadata": {
    "tags": []
   },
   "outputs": [
    {
     "data": {
      "text/plain": [
       "'hvfhs_license_num,dispatching_base_num,pickup_datetime,dropoff_datetime,PULocationID,DOLocationID,SR_Flag'"
      ]
     },
     "execution_count": 9,
     "metadata": {},
     "output_type": "execute_result"
    }
   ],
   "source": [
    "header"
   ]
  },
  {
   "cell_type": "code",
   "execution_count": 10,
   "metadata": {
    "tags": []
   },
   "outputs": [],
   "source": [
    "# [+] 헤더 제거: filter()\n",
    "filtered_lines = lines.filter(lambda row:row != header)"
   ]
  },
  {
   "cell_type": "markdown",
   "metadata": {},
   "source": [
    "*filtered_lines 데이터*\n",
    "```\n",
    "HV0005,B02510,2020-03-01 00:03:40,2020-03-01 00:23:39,81,159, \n",
    "HV0005,B02510,2020-03-01 00:28:05,2020-03-01 00:38:57,168,119,\n",
    "HV0003,B02764,2020-03-01 00:03:07,2020-03-01 00:15:04,137,209,1\n",
    "HV0003,B02764,2020-03-01 00:18:42,2020-03-01 00:38:42,209,80,\n",
    "HV0003,B02764,2020-03-01 00:44:24,2020-03-01 00:58:44,256,226,\n",
    "...\n",
    "```"
   ]
  },
  {
   "cell_type": "code",
   "execution_count": null,
   "metadata": {
    "tags": []
   },
   "outputs": [],
   "source": [
    "# [+] 승차일자 추출하기(K-V RDD로 저장): map()\n",
    "\n",
    "dates = "
   ]
  },
  {
   "cell_type": "code",
   "execution_count": null,
   "metadata": {
    "tags": []
   },
   "outputs": [],
   "source": [
    "# 첫 번째 값 출력\n",
    "dates.first()"
   ]
  },
  {
   "cell_type": "markdown",
   "metadata": {},
   "source": [
    "---"
   ]
  },
  {
   "cell_type": "markdown",
   "metadata": {},
   "source": [
    "### 2. 일별 승차횟수 계산"
   ]
  },
  {
   "cell_type": "markdown",
   "metadata": {},
   "source": [
    "#### 2.1 reduceByKey()"
   ]
  },
  {
   "cell_type": "code",
   "execution_count": null,
   "metadata": {
    "tags": []
   },
   "outputs": [],
   "source": [
    "# [+] reduceByKey()를 이용한 일별 승차횟수 계산\n",
    "reduced = "
   ]
  },
  {
   "cell_type": "markdown",
   "metadata": {},
   "source": [
    "```%%time```: 셀 단위 실행 시간 측정(셀 최상단에 작성)\n",
    "\n"
   ]
  },
  {
   "cell_type": "code",
   "execution_count": null,
   "metadata": {
    "tags": []
   },
   "outputs": [],
   "source": [
    "%%time\n",
    "\n",
    "# 처리 시간 측정\n",
    "reduced.collect()"
   ]
  },
  {
   "cell_type": "markdown",
   "metadata": {},
   "source": [
    "---"
   ]
  },
  {
   "cell_type": "markdown",
   "metadata": {},
   "source": [
    "#### 2.2 groupByKey()"
   ]
  },
  {
   "cell_type": "code",
   "execution_count": null,
   "metadata": {
    "tags": []
   },
   "outputs": [],
   "source": [
    "# [+] groupByKey()를 이용한 일별 데이터 그룹핑\n",
    "groups = "
   ]
  },
  {
   "cell_type": "code",
   "execution_count": null,
   "metadata": {
    "tags": []
   },
   "outputs": [],
   "source": [
    "# 첫 번째 값 출력\n",
    "groups.first()"
   ]
  },
  {
   "cell_type": "code",
   "execution_count": null,
   "metadata": {
    "tags": []
   },
   "outputs": [],
   "source": [
    "# [+] mapValues()를 이용한 일별 승차횟수 계산\n",
    "counts = groups.mapValues(len)"
   ]
  },
  {
   "cell_type": "markdown",
   "metadata": {},
   "source": [
    "```%time```: 문장 단위 실행 시간 측정(문장 앞에 작성)"
   ]
  },
  {
   "cell_type": "code",
   "execution_count": null,
   "metadata": {
    "tags": []
   },
   "outputs": [],
   "source": [
    "# [+] 처리 시간 측정\n",
    "%time counts.collect()"
   ]
  },
  {
   "cell_type": "markdown",
   "metadata": {},
   "source": [
    "---"
   ]
  },
  {
   "cell_type": "markdown",
   "metadata": {},
   "source": [
    "### 3. RDD 파티셔닝(Partitioning)"
   ]
  },
  {
   "cell_type": "code",
   "execution_count": 11,
   "metadata": {
    "tags": []
   },
   "outputs": [],
   "source": [
    "# 데이터셋 불러오기\n",
    "path = './data/'\n",
    "filename = 'id_and_name.csv'\n",
    "lines = sc.textFile(path + filename)"
   ]
  },
  {
   "cell_type": "code",
   "execution_count": 12,
   "metadata": {
    "tags": []
   },
   "outputs": [
    {
     "data": {
      "text/plain": [
       "['id,name',\n",
       " '201958114,최창성',\n",
       " '202058062,유예지',\n",
       " '202122035,이원모',\n",
       " '202158050,맹서희',\n",
       " '202158083,신동민',\n",
       " '201755009,권진용',\n",
       " '201755068,윤여준',\n",
       " '201855056,김성식',\n",
       " '201855095,강진엽']"
      ]
     },
     "execution_count": 12,
     "metadata": {},
     "output_type": "execute_result"
    }
   ],
   "source": [
    "# [+] lines의 값 10개 출력\n",
    "lines.take(10)"
   ]
  },
  {
   "cell_type": "code",
   "execution_count": 13,
   "metadata": {
    "tags": []
   },
   "outputs": [],
   "source": [
    "# [+] 헤더 제거: first(), filter()\n",
    "header = lines.first()\n",
    "filtered_lines = lines.filter(lambda row:row != header)"
   ]
  },
  {
   "cell_type": "code",
   "execution_count": 14,
   "metadata": {
    "tags": []
   },
   "outputs": [],
   "source": [
    "# 파티션 수 설정\n",
    "n = 5"
   ]
  },
  {
   "cell_type": "markdown",
   "metadata": {},
   "source": [
    "#### 3.1 K-V RDD로 변환\n",
    "*filtered_lines*\n",
    "```\n",
    "['201958114,최창성',\n",
    " '202058062,유예지',\n",
    " '202122035,이원모',\n",
    " '202158050,맹서희',\n",
    " '202158083,신동민',\n",
    " ...\n",
    "```\n",
    "\n",
    "*kv_lines*\n",
    "```\n",
    "[['201958114', '최창성'],\n",
    " ['202058062', '유예지'],\n",
    " ['202122035', '이원모'],\n",
    " ['202158050', '맹서희'],\n",
    " ['202158083', '신동민'],\n",
    " ...\n",
    "```\n"
   ]
  },
  {
   "cell_type": "code",
   "execution_count": 16,
   "metadata": {
    "tags": []
   },
   "outputs": [
    {
     "data": {
      "text/plain": [
       "[['201958114', '최창성'],\n",
       " ['202058062', '유예지'],\n",
       " ['202122035', '이원모'],\n",
       " ['202158050', '맹서희'],\n",
       " ['202158083', '신동민']]"
      ]
     },
     "execution_count": 16,
     "metadata": {},
     "output_type": "execute_result"
    }
   ],
   "source": [
    "# K-V RDD로 변환\n",
    "kv_lines = filtered_lines.map(lambda x:x.split(','))\n",
    "kv_lines.take(5)"
   ]
  },
  {
   "cell_type": "markdown",
   "metadata": {},
   "source": [
    "#### 3.2 Hash Partitioning\n",
    "key(x)에 대한 해시 함수를 정의하여 파티셔닝을 수행"
   ]
  },
  {
   "cell_type": "code",
   "execution_count": 18,
   "metadata": {
    "tags": []
   },
   "outputs": [],
   "source": [
    "# 모듈로 해시 함수를 이용한 파티셔닝: partitionBy()\n",
    "parted = kv_lines.partitionBy(n, lambda x : int(x) % n)"
   ]
  },
  {
   "cell_type": "code",
   "execution_count": 19,
   "metadata": {
    "tags": []
   },
   "outputs": [
    {
     "data": {
      "text/plain": [
       "[[('202122035', '이원모'),\n",
       "  ('202158050', '맹서희'),\n",
       "  ('201855095', '강진엽'),\n",
       "  ('201955005', '김보석'),\n",
       "  ('201855035', '편해수'),\n",
       "  ('202055040', '신현종'),\n",
       "  ('202155100', '김도훈'),\n",
       "  ('201752030', '박창준'),\n",
       "  ('201855040', '오승준'),\n",
       "  ('201955010', '황민태'),\n",
       "  ('202055005', '조흥진')],\n",
       " [('201855056', '김성식'),\n",
       "  ('202055046', '정진욱'),\n",
       "  ('201955096', '정원석'),\n",
       "  ('202055066', '윤혜진'),\n",
       "  ('202255061', '권오형'),\n",
       "  ('201955006', '김지혜'),\n",
       "  ('201955026', '이신우'),\n",
       "  ('201955036', '김승재'),\n",
       "  ('202155111', '김찬용')],\n",
       " [('202058062', '유예지'),\n",
       "  ('202055032', '김미현'),\n",
       "  ('201855017', '차정현'),\n",
       "  ('202155002', '이예은'),\n",
       "  ('201955017', '장유찬'),\n",
       "  ('201955037', '최호진'),\n",
       "  ('201955042', '이우용'),\n",
       "  ('201955082', '신민섭'),\n",
       "  ('202055012', '이진용'),\n",
       "  ('201655017', '김태균'),\n",
       "  ('201755062', '김민종'),\n",
       "  ('202155057', '강유진'),\n",
       "  ('202155107', '임영진'),\n",
       "  ('202167047', '응우옌 쩐 까오 탄 ')],\n",
       " [('202158083', '신동민'),\n",
       "  ('201755068', '윤여준'),\n",
       "  ('201955063', '이재형'),\n",
       "  ('201955068', '최한결'),\n",
       "  ('201855003', '김기준'),\n",
       "  ('202155043', '이주헌'),\n",
       "  ('202155098', '김태훈'),\n",
       "  ('201752013', '전수복'),\n",
       "  ('201752038', '이준석'),\n",
       "  ('201852033', '함민규'),\n",
       "  ('202055033', '최태권'),\n",
       "  ('201755018', '김지훈'),\n",
       "  ('201755033', '백준열'),\n",
       "  ('201855008', '박제민'),\n",
       "  ('201955008', '김진우'),\n",
       "  ('202055038', '김유민'),\n",
       "  ('202155103', '김성준'),\n",
       "  ('202155108', '이상수')],\n",
       " [('201958114', '최창성'),\n",
       "  ('201755009', '권진용'),\n",
       "  ('201955079', '정승윤'),\n",
       "  ('202055054', '이선민'),\n",
       "  ('201855039', '조익범'),\n",
       "  ('201955099', '배재윤'),\n",
       "  ('202155074', '우지호'),\n",
       "  ('202372089', '오서진'),\n",
       "  ('202058149', '김성재'),\n",
       "  ('201955009', '윤명규'),\n",
       "  ('201955014', '이현우'),\n",
       "  ('201955024', '정우기'),\n",
       "  ('201955049', '한우진'),\n",
       "  ('201955054', '이승재'),\n",
       "  ('201755054', '조영준'),\n",
       "  ('202055079', '하수진'),\n",
       "  ('202155004', '강혜경'),\n",
       "  ('202155054', '이규도'),\n",
       "  ('202155084', '이은수'),\n",
       "  ('202155099', '이종호'),\n",
       "  ('202155109', '염건호')]]"
      ]
     },
     "execution_count": 19,
     "metadata": {},
     "output_type": "execute_result"
    }
   ],
   "source": [
    "# [+] parted의 파티션 별 RDD 값 출력\n",
    "parted.glom().collect()"
   ]
  },
  {
   "cell_type": "code",
   "execution_count": 24,
   "metadata": {
    "tags": []
   },
   "outputs": [],
   "source": [
    "# 파티션 수 조정: repartition()\n",
    "reparted = parted.repartition(10)\n"
   ]
  },
  {
   "cell_type": "code",
   "execution_count": 25,
   "metadata": {},
   "outputs": [
    {
     "data": {
      "text/plain": [
       "[[],\n",
       " [('202122035', '이원모'),\n",
       "  ('202158050', '맹서희'),\n",
       "  ('201855095', '강진엽'),\n",
       "  ('201955005', '김보석'),\n",
       "  ('201855035', '편해수'),\n",
       "  ('202055040', '신현종'),\n",
       "  ('202155100', '김도훈'),\n",
       "  ('201752030', '박창준'),\n",
       "  ('201855040', '오승준'),\n",
       "  ('201955010', '황민태')],\n",
       " [('202055005', '조흥진'),\n",
       "  ('202058062', '유예지'),\n",
       "  ('202055032', '김미현'),\n",
       "  ('201855017', '차정현'),\n",
       "  ('202155002', '이예은'),\n",
       "  ('201955017', '장유찬'),\n",
       "  ('201955037', '최호진'),\n",
       "  ('201955042', '이우용'),\n",
       "  ('201955082', '신민섭'),\n",
       "  ('202055012', '이진용'),\n",
       "  ('201655017', '김태균'),\n",
       "  ('202158083', '신동민'),\n",
       "  ('201755068', '윤여준'),\n",
       "  ('201955063', '이재형'),\n",
       "  ('201955068', '최한결'),\n",
       "  ('201855003', '김기준'),\n",
       "  ('202155043', '이주헌'),\n",
       "  ('202155098', '김태훈'),\n",
       "  ('201752013', '전수복'),\n",
       "  ('201752038', '이준석'),\n",
       "  ('201852033', '함민규')],\n",
       " [('201855056', '김성식'),\n",
       "  ('202055046', '정진욱'),\n",
       "  ('201955096', '정원석'),\n",
       "  ('202055066', '윤혜진'),\n",
       "  ('202255061', '권오형'),\n",
       "  ('201955006', '김지혜'),\n",
       "  ('201955026', '이신우'),\n",
       "  ('201955036', '김승재'),\n",
       "  ('202155111', '김찬용'),\n",
       "  ('201755062', '김민종'),\n",
       "  ('202155057', '강유진'),\n",
       "  ('202155107', '임영진'),\n",
       "  ('202167047', '응우옌 쩐 까오 탄 '),\n",
       "  ('202055033', '최태권'),\n",
       "  ('201755018', '김지훈'),\n",
       "  ('201755033', '백준열'),\n",
       "  ('201855008', '박제민'),\n",
       "  ('201955008', '김진우'),\n",
       "  ('202055038', '김유민'),\n",
       "  ('202155103', '김성준'),\n",
       "  ('202155108', '이상수')],\n",
       " [('201958114', '최창성'),\n",
       "  ('201755009', '권진용'),\n",
       "  ('201955079', '정승윤'),\n",
       "  ('202055054', '이선민'),\n",
       "  ('201855039', '조익범'),\n",
       "  ('201955099', '배재윤'),\n",
       "  ('202155074', '우지호'),\n",
       "  ('202372089', '오서진'),\n",
       "  ('202058149', '김성재'),\n",
       "  ('201955009', '윤명규')],\n",
       " [('201955014', '이현우'),\n",
       "  ('201955024', '정우기'),\n",
       "  ('201955049', '한우진'),\n",
       "  ('201955054', '이승재'),\n",
       "  ('201755054', '조영준'),\n",
       "  ('202055079', '하수진'),\n",
       "  ('202155004', '강혜경'),\n",
       "  ('202155054', '이규도'),\n",
       "  ('202155084', '이은수'),\n",
       "  ('202155099', '이종호')],\n",
       " [('202155109', '염건호')],\n",
       " [],\n",
       " [],\n",
       " []]"
      ]
     },
     "execution_count": 25,
     "metadata": {},
     "output_type": "execute_result"
    }
   ],
   "source": [
    "# [+] reparted의 파티션 별 RDD 값 출력\n",
    "reparted.glom().collect()"
   ]
  },
  {
   "cell_type": "code",
   "execution_count": 26,
   "metadata": {
    "tags": []
   },
   "outputs": [],
   "source": [
    "# 파티션 수 조정: coalesce()\n",
    "combined = reparted.coalesce(3)"
   ]
  },
  {
   "cell_type": "code",
   "execution_count": 27,
   "metadata": {},
   "outputs": [
    {
     "data": {
      "text/plain": [
       "[[('202122035', '이원모'),\n",
       "  ('202158050', '맹서희'),\n",
       "  ('201855095', '강진엽'),\n",
       "  ('201955005', '김보석'),\n",
       "  ('201855035', '편해수'),\n",
       "  ('202055040', '신현종'),\n",
       "  ('202155100', '김도훈'),\n",
       "  ('201752030', '박창준'),\n",
       "  ('201855040', '오승준'),\n",
       "  ('201955010', '황민태'),\n",
       "  ('201955014', '이현우'),\n",
       "  ('201955024', '정우기'),\n",
       "  ('201955049', '한우진'),\n",
       "  ('201955054', '이승재'),\n",
       "  ('201755054', '조영준'),\n",
       "  ('202055079', '하수진'),\n",
       "  ('202155004', '강혜경'),\n",
       "  ('202155054', '이규도'),\n",
       "  ('202155084', '이은수'),\n",
       "  ('202155099', '이종호')],\n",
       " [('202155109', '염건호'),\n",
       "  ('202055005', '조흥진'),\n",
       "  ('202058062', '유예지'),\n",
       "  ('202055032', '김미현'),\n",
       "  ('201855017', '차정현'),\n",
       "  ('202155002', '이예은'),\n",
       "  ('201955017', '장유찬'),\n",
       "  ('201955037', '최호진'),\n",
       "  ('201955042', '이우용'),\n",
       "  ('201955082', '신민섭'),\n",
       "  ('202055012', '이진용'),\n",
       "  ('201655017', '김태균'),\n",
       "  ('202158083', '신동민'),\n",
       "  ('201755068', '윤여준'),\n",
       "  ('201955063', '이재형'),\n",
       "  ('201955068', '최한결'),\n",
       "  ('201855003', '김기준'),\n",
       "  ('202155043', '이주헌'),\n",
       "  ('202155098', '김태훈'),\n",
       "  ('201752013', '전수복'),\n",
       "  ('201752038', '이준석'),\n",
       "  ('201852033', '함민규')],\n",
       " [('201855056', '김성식'),\n",
       "  ('202055046', '정진욱'),\n",
       "  ('201955096', '정원석'),\n",
       "  ('202055066', '윤혜진'),\n",
       "  ('202255061', '권오형'),\n",
       "  ('201955006', '김지혜'),\n",
       "  ('201955026', '이신우'),\n",
       "  ('201955036', '김승재'),\n",
       "  ('202155111', '김찬용'),\n",
       "  ('201755062', '김민종'),\n",
       "  ('202155057', '강유진'),\n",
       "  ('202155107', '임영진'),\n",
       "  ('202167047', '응우옌 쩐 까오 탄 '),\n",
       "  ('202055033', '최태권'),\n",
       "  ('201755018', '김지훈'),\n",
       "  ('201755033', '백준열'),\n",
       "  ('201855008', '박제민'),\n",
       "  ('201955008', '김진우'),\n",
       "  ('202055038', '김유민'),\n",
       "  ('202155103', '김성준'),\n",
       "  ('202155108', '이상수'),\n",
       "  ('201958114', '최창성'),\n",
       "  ('201755009', '권진용'),\n",
       "  ('201955079', '정승윤'),\n",
       "  ('202055054', '이선민'),\n",
       "  ('201855039', '조익범'),\n",
       "  ('201955099', '배재윤'),\n",
       "  ('202155074', '우지호'),\n",
       "  ('202372089', '오서진'),\n",
       "  ('202058149', '김성재'),\n",
       "  ('201955009', '윤명규')]]"
      ]
     },
     "execution_count": 27,
     "metadata": {},
     "output_type": "execute_result"
    }
   ],
   "source": [
    "# [+] combined의 파티션 별 RDD 값 출력\n",
    "combined.glom().collect()"
   ]
  },
  {
   "cell_type": "markdown",
   "metadata": {},
   "source": [
    "#### 3.3 Range Partitioning\n",
    "+ Range partitioning 수행을 위해 RDD 객체를 DataFrame으로 변환\n",
    "+ DataFrame 생성을 위해 SparkSession 사용"
   ]
  },
  {
   "cell_type": "code",
   "execution_count": 28,
   "metadata": {
    "tags": []
   },
   "outputs": [],
   "source": [
    "# SparkSession 임포트 및 객체 생성\n",
    "from pyspark.sql import SparkSession\n",
    "\n",
    "spark = SparkSession.builder.appName(\"RepartitionByRangeExample\").getOrCreate()"
   ]
  },
  {
   "cell_type": "code",
   "execution_count": 29,
   "metadata": {
    "tags": []
   },
   "outputs": [],
   "source": [
    "# DataFrame 생성\n",
    "df = spark.createDataFrame(parted, [\"id\", \"name\"])"
   ]
  },
  {
   "cell_type": "code",
   "execution_count": 30,
   "metadata": {
    "tags": []
   },
   "outputs": [
    {
     "name": "stdout",
     "output_type": "stream",
     "text": [
      "+---------+------+\n",
      "|       id|  name|\n",
      "+---------+------+\n",
      "|202122035|이원모|\n",
      "|202158050|맹서희|\n",
      "|201855095|강진엽|\n",
      "|201955005|김보석|\n",
      "|201855035|편해수|\n",
      "|202055040|신현종|\n",
      "|202155100|김도훈|\n",
      "|201752030|박창준|\n",
      "|201855040|오승준|\n",
      "|201955010|황민태|\n",
      "|202055005|조흥진|\n",
      "|201855056|김성식|\n",
      "|202055046|정진욱|\n",
      "|201955096|정원석|\n",
      "|202055066|윤혜진|\n",
      "|202255061|권오형|\n",
      "|201955006|김지혜|\n",
      "|201955026|이신우|\n",
      "|201955036|김승재|\n",
      "|202155111|김찬용|\n",
      "+---------+------+\n",
      "only showing top 20 rows\n",
      "\n"
     ]
    }
   ],
   "source": [
    "# DataFrame 출력\n",
    "df.show()"
   ]
  },
  {
   "cell_type": "code",
   "execution_count": 31,
   "metadata": {
    "tags": []
   },
   "outputs": [],
   "source": [
    "# Range Partitioning: repartitionByRange()\n",
    "reparted = df.repartitionByRange(3, 'id')"
   ]
  },
  {
   "cell_type": "markdown",
   "metadata": {},
   "source": [
    "파티션별 RDD 값 출력\n",
    "+ ```.rdd```: DataFrame으로부터 RDD 객체 획득"
   ]
  },
  {
   "cell_type": "code",
   "execution_count": 32,
   "metadata": {},
   "outputs": [
    {
     "data": {
      "text/plain": [
       "[[Row(id='201855095', name='강진엽'),\n",
       "  Row(id='201955005', name='김보석'),\n",
       "  Row(id='201855035', name='편해수'),\n",
       "  Row(id='201752030', name='박창준'),\n",
       "  Row(id='201855040', name='오승준'),\n",
       "  Row(id='201955010', name='황민태'),\n",
       "  Row(id='201855056', name='김성식'),\n",
       "  Row(id='201955006', name='김지혜'),\n",
       "  Row(id='201855017', name='차정현'),\n",
       "  Row(id='201655017', name='김태균'),\n",
       "  Row(id='201755062', name='김민종'),\n",
       "  Row(id='201755068', name='윤여준'),\n",
       "  Row(id='201855003', name='김기준'),\n",
       "  Row(id='201752013', name='전수복'),\n",
       "  Row(id='201752038', name='이준석'),\n",
       "  Row(id='201852033', name='함민규'),\n",
       "  Row(id='201755018', name='김지훈'),\n",
       "  Row(id='201755033', name='백준열'),\n",
       "  Row(id='201855008', name='박제민'),\n",
       "  Row(id='201955008', name='김진우'),\n",
       "  Row(id='201755009', name='권진용'),\n",
       "  Row(id='201855039', name='조익범'),\n",
       "  Row(id='201955009', name='윤명규'),\n",
       "  Row(id='201955014', name='이현우'),\n",
       "  Row(id='201755054', name='조영준')],\n",
       " [Row(id='202055040', name='신현종'),\n",
       "  Row(id='202055005', name='조흥진'),\n",
       "  Row(id='202055046', name='정진욱'),\n",
       "  Row(id='201955096', name='정원석'),\n",
       "  Row(id='202055066', name='윤혜진'),\n",
       "  Row(id='201955026', name='이신우'),\n",
       "  Row(id='201955036', name='김승재'),\n",
       "  Row(id='202055032', name='김미현'),\n",
       "  Row(id='201955017', name='장유찬'),\n",
       "  Row(id='201955037', name='최호진'),\n",
       "  Row(id='201955042', name='이우용'),\n",
       "  Row(id='201955082', name='신민섭'),\n",
       "  Row(id='202055012', name='이진용'),\n",
       "  Row(id='201955063', name='이재형'),\n",
       "  Row(id='201955068', name='최한결'),\n",
       "  Row(id='202055033', name='최태권'),\n",
       "  Row(id='202055038', name='김유민'),\n",
       "  Row(id='201958114', name='최창성'),\n",
       "  Row(id='201955079', name='정승윤'),\n",
       "  Row(id='202055054', name='이선민'),\n",
       "  Row(id='201955099', name='배재윤'),\n",
       "  Row(id='201955024', name='정우기'),\n",
       "  Row(id='201955049', name='한우진'),\n",
       "  Row(id='201955054', name='이승재')],\n",
       " [Row(id='202122035', name='이원모'),\n",
       "  Row(id='202158050', name='맹서희'),\n",
       "  Row(id='202155100', name='김도훈'),\n",
       "  Row(id='202255061', name='권오형'),\n",
       "  Row(id='202155111', name='김찬용'),\n",
       "  Row(id='202058062', name='유예지'),\n",
       "  Row(id='202155002', name='이예은'),\n",
       "  Row(id='202155057', name='강유진'),\n",
       "  Row(id='202155107', name='임영진'),\n",
       "  Row(id='202167047', name='응우옌 쩐 까오 탄 '),\n",
       "  Row(id='202158083', name='신동민'),\n",
       "  Row(id='202155043', name='이주헌'),\n",
       "  Row(id='202155098', name='김태훈'),\n",
       "  Row(id='202155103', name='김성준'),\n",
       "  Row(id='202155108', name='이상수'),\n",
       "  Row(id='202155074', name='우지호'),\n",
       "  Row(id='202372089', name='오서진'),\n",
       "  Row(id='202058149', name='김성재'),\n",
       "  Row(id='202055079', name='하수진'),\n",
       "  Row(id='202155004', name='강혜경'),\n",
       "  Row(id='202155054', name='이규도'),\n",
       "  Row(id='202155084', name='이은수'),\n",
       "  Row(id='202155099', name='이종호'),\n",
       "  Row(id='202155109', name='염건호')]]"
      ]
     },
     "execution_count": 32,
     "metadata": {},
     "output_type": "execute_result"
    }
   ],
   "source": [
    "# reparted의 RDD의 파티션 별 값 출력\n",
    "reparted.rdd.glom().collect()"
   ]
  }
 ],
 "metadata": {
  "kernelspec": {
   "display_name": "Python 3 (ipykernel)",
   "language": "python",
   "name": "python3"
  },
  "language_info": {
   "codemirror_mode": {
    "name": "ipython",
    "version": 3
   },
   "file_extension": ".py",
   "mimetype": "text/x-python",
   "name": "python",
   "nbconvert_exporter": "python",
   "pygments_lexer": "ipython3",
   "version": "3.9.13"
  }
 },
 "nbformat": 4,
 "nbformat_minor": 4
}
