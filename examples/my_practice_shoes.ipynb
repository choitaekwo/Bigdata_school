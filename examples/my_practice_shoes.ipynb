{
 "cells": [
  {
   "cell_type": "markdown",
   "id": "940a6cb0-9b98-42d9-9907-8b56539b0cdd",
   "metadata": {},
   "source": [
    "•혼자 연습하는 빅데이터/스파크 예제\n",
    "\n",
    "\"shoes_purchases\" 에서  각 브랜드 별 구매횟수와 구매횟수 평균 그리고 각 제품별 A/S 확률 출력 "
   ]
  },
  {
   "cell_type": "code",
   "execution_count": 1,
   "id": "56adf5c3-1fd0-4a0e-9d7e-851ce04e2839",
   "metadata": {},
   "outputs": [],
   "source": [
    "import findspark\n",
    "findspark.init()\n",
    "\n",
    "from pyspark import SparkConf, SparkContext\n",
    "import pandas as pd"
   ]
  },
  {
   "cell_type": "code",
   "execution_count": 2,
   "id": "e8b4422d-3fe1-4152-8f35-5bb50979be42",
   "metadata": {},
   "outputs": [],
   "source": [
    "conf = SparkConf().setMaster(\"local\").setAppName(\"key-value-shoes\")\n",
    "sc = SparkContext(conf = conf)"
   ]
  },
  {
   "cell_type": "code",
   "execution_count": 3,
   "id": "61dc1439-a0bd-44b1-b618-aa04e5996edb",
   "metadata": {},
   "outputs": [],
   "source": [
    "filename = \"shoes_purchases.csv\"\n",
    "path = \"./data/\"\n",
    "lines = sc.textFile(path + filename)"
   ]
  },
  {
   "cell_type": "code",
   "execution_count": 4,
   "id": "e168032a-f718-4981-8598-be7a84671d83",
   "metadata": {},
   "outputs": [
    {
     "data": {
      "text/plain": [
       "['ID,Shoes,Brand,Purchases,A/S',\n",
       " '1,Mercurial,Nike,1256,89',\n",
       " '2,Xspeed,Adidas,850,47',\n",
       " '3,Future,Puma,820,65',\n",
       " '4,Tiempo,Nike,759,56',\n",
       " '5,Ultra,Puma,723,45',\n",
       " '6,PhantomGX,Nike,642,45',\n",
       " '7,Copa,Adidas,533,35',\n",
       " '8,One,Puma,211,18',\n",
       " '9,PhantomVenom,Nike,125,11',\n",
       " '10,Nemessiz,Adidas,119,8',\n",
       " '11,Predator,Adidas,98,12',\n",
       " '12,King,Puma,97,4',\n",
       " '13,Magista,Nike,92,4',\n",
       " '14,Premier,Nike,78,8',\n",
       " '15,Ace,Adidas,68,6',\n",
       " '16,Morelia,Mizuno,57,2',\n",
       " '17,Furon,NewBalance,47,4',\n",
       " '18,Ignitus,Mizuno,38,4']"
      ]
     },
     "execution_count": 4,
     "metadata": {},
     "output_type": "execute_result"
    }
   ],
   "source": [
    "lines.collect()"
   ]
  },
  {
   "cell_type": "code",
   "execution_count": 5,
   "id": "cb796639-da5e-4279-b8d0-7efd0d1d9164",
   "metadata": {},
   "outputs": [],
   "source": [
    "# 첫 행 (헤더) 제거\n",
    "header = lines.first()\n",
    "filtered_lines = lines.filter(lambda x: x != header)"
   ]
  },
  {
   "cell_type": "code",
   "execution_count": 6,
   "id": "1a470eae-8fe0-4b42-b639-e2035222177b",
   "metadata": {},
   "outputs": [
    {
     "data": {
      "text/plain": [
       "['1,Mercurial,Nike,1256,89',\n",
       " '2,Xspeed,Adidas,850,47',\n",
       " '3,Future,Puma,820,65',\n",
       " '4,Tiempo,Nike,759,56',\n",
       " '5,Ultra,Puma,723,45',\n",
       " '6,PhantomGX,Nike,642,45',\n",
       " '7,Copa,Adidas,533,35',\n",
       " '8,One,Puma,211,18',\n",
       " '9,PhantomVenom,Nike,125,11',\n",
       " '10,Nemessiz,Adidas,119,8',\n",
       " '11,Predator,Adidas,98,12',\n",
       " '12,King,Puma,97,4',\n",
       " '13,Magista,Nike,92,4',\n",
       " '14,Premier,Nike,78,8',\n",
       " '15,Ace,Adidas,68,6',\n",
       " '16,Morelia,Mizuno,57,2',\n",
       " '17,Furon,NewBalance,47,4',\n",
       " '18,Ignitus,Mizuno,38,4']"
      ]
     },
     "execution_count": 6,
     "metadata": {},
     "output_type": "execute_result"
    }
   ],
   "source": [
    "filtered_lines.collect()"
   ]
  },
  {
   "cell_type": "code",
   "execution_count": 25,
   "id": "38964078-20ef-4a3a-9ba7-f851f95578b3",
   "metadata": {},
   "outputs": [],
   "source": [
    "# parsing (Brand, purchases) 추출\n",
    "def parse(row):\n",
    "    fields = row.split(\",\")\n",
    "    brand = fields[2]\n",
    "    purchases = int(fields[3])\n",
    "    \n",
    "    return (brand, purchases)\n",
    "\n",
    "Brand_Purchases = filtered_lines.map(parse)"
   ]
  },
  {
   "cell_type": "code",
   "execution_count": 8,
   "id": "e4c95dc1-e678-4890-b813-5319e4927093",
   "metadata": {},
   "outputs": [
    {
     "data": {
      "text/plain": [
       "[('Nike', 1256),\n",
       " ('Adidas', 850),\n",
       " ('Puma', 820),\n",
       " ('Nike', 759),\n",
       " ('Puma', 723),\n",
       " ('Nike', 642),\n",
       " ('Adidas', 533),\n",
       " ('Puma', 211),\n",
       " ('Nike', 125),\n",
       " ('Adidas', 119),\n",
       " ('Adidas', 98),\n",
       " ('Puma', 97),\n",
       " ('Nike', 92),\n",
       " ('Nike', 78),\n",
       " ('Adidas', 68),\n",
       " ('Mizuno', 57),\n",
       " ('NewBalance', 47),\n",
       " ('Mizuno', 38)]"
      ]
     },
     "execution_count": 8,
     "metadata": {},
     "output_type": "execute_result"
    }
   ],
   "source": [
    "Brand_Purchases.collect()"
   ]
  },
  {
   "cell_type": "code",
   "execution_count": 9,
   "id": "91ec23f7-37c4-49fb-b82a-68fbdf57d76b",
   "metadata": {},
   "outputs": [],
   "source": [
    "# Key: Brand, Value: (purchases, 1)로 구성된 Key-Value RDD로 변환\n",
    "Brand_Purchases_Count = Brand_Purchases.mapValues(lambda x: (x, 1))    # Key는 그대로"
   ]
  },
  {
   "cell_type": "code",
   "execution_count": 10,
   "id": "6ff5cf97-6c48-4d7a-93c6-ca322d2e7987",
   "metadata": {},
   "outputs": [
    {
     "data": {
      "text/plain": [
       "[('Nike', (1256, 1)),\n",
       " ('Adidas', (850, 1)),\n",
       " ('Puma', (820, 1)),\n",
       " ('Nike', (759, 1)),\n",
       " ('Puma', (723, 1)),\n",
       " ('Nike', (642, 1)),\n",
       " ('Adidas', (533, 1)),\n",
       " ('Puma', (211, 1)),\n",
       " ('Nike', (125, 1)),\n",
       " ('Adidas', (119, 1)),\n",
       " ('Adidas', (98, 1)),\n",
       " ('Puma', (97, 1)),\n",
       " ('Nike', (92, 1)),\n",
       " ('Nike', (78, 1)),\n",
       " ('Adidas', (68, 1)),\n",
       " ('Mizuno', (57, 1)),\n",
       " ('NewBalance', (47, 1)),\n",
       " ('Mizuno', (38, 1))]"
      ]
     },
     "execution_count": 10,
     "metadata": {},
     "output_type": "execute_result"
    }
   ],
   "source": [
    "Brand_Purchases_Count.collect()"
   ]
  },
  {
   "cell_type": "code",
   "execution_count": 96,
   "id": "0c06ca31-da52-459c-8d40-2e6a1017395a",
   "metadata": {},
   "outputs": [],
   "source": [
    "# 각 브랜드 별 구매 수, 제품 수\n",
    "reduced = Brand_Purchases_Count.reduceByKey(lambda x, y: (x[0] + y[0], x[1] + y[1]))"
   ]
  },
  {
   "cell_type": "code",
   "execution_count": 97,
   "id": "2dd9e9d9-4d1b-4b80-871f-c190ebfa11f8",
   "metadata": {},
   "outputs": [
    {
     "data": {
      "text/plain": [
       "[('Nike', (2952, 6)),\n",
       " ('Adidas', (1668, 5)),\n",
       " ('Puma', (1851, 4)),\n",
       " ('Mizuno', (95, 2)),\n",
       " ('NewBalance', (47, 1))]"
      ]
     },
     "execution_count": 97,
     "metadata": {},
     "output_type": "execute_result"
    }
   ],
   "source": [
    "reduced.collect()"
   ]
  },
  {
   "cell_type": "code",
   "execution_count": 98,
   "id": "7b39364a-a6c0-448c-8619-e3ba7de83ef4",
   "metadata": {},
   "outputs": [],
   "source": [
    "# 각 브랜드 별 구매 수 출력\n",
    "reduced_show = reduced.mapValues(lambda x: x[0])"
   ]
  },
  {
   "cell_type": "code",
   "execution_count": 99,
   "id": "7253968a-b6ca-4fb9-b711-d6ae03f7b24f",
   "metadata": {},
   "outputs": [
    {
     "data": {
      "text/plain": [
       "[('Nike', 2952),\n",
       " ('Adidas', 1668),\n",
       " ('Puma', 1851),\n",
       " ('Mizuno', 95),\n",
       " ('NewBalance', 47)]"
      ]
     },
     "execution_count": 99,
     "metadata": {},
     "output_type": "execute_result"
    }
   ],
   "source": [
    "reduced_show.collect()"
   ]
  },
  {
   "cell_type": "code",
   "execution_count": 100,
   "id": "c31f076b-93c2-4157-8e65-b5ee29814cd3",
   "metadata": {},
   "outputs": [],
   "source": [
    "# 각 브랜드 별 구매 수 평균 출력\n",
    "Pur_average = reduced.mapValues(lambda x: x[0]/x[1])"
   ]
  },
  {
   "cell_type": "code",
   "execution_count": 101,
   "id": "4996763f-2d49-4dd6-826a-129b73a0a1fb",
   "metadata": {},
   "outputs": [
    {
     "data": {
      "text/plain": [
       "[('Nike', 492.0),\n",
       " ('Adidas', 333.6),\n",
       " ('Puma', 462.75),\n",
       " ('Mizuno', 47.5),\n",
       " ('NewBalance', 47.0)]"
      ]
     },
     "execution_count": 101,
     "metadata": {},
     "output_type": "execute_result"
    }
   ],
   "source": [
    "Pur_average.collect()"
   ]
  },
  {
   "cell_type": "code",
   "execution_count": 110,
   "id": "18e50b49-59ed-4feb-8821-bee4dd15ebc5",
   "metadata": {},
   "outputs": [],
   "source": [
    "# 각 제품 별 A/S 확률 구하기\n",
    "# parsing (Shoes, Brand, purchases, A/S) 추출\n",
    "Brand_AS = filtered_lines.map(lambda x: (x.split(\",\")[1], x.split(\",\")[2], int(x.split(\",\")[3]), int(x.split(\",\")[4])))"
   ]
  },
  {
   "cell_type": "code",
   "execution_count": 111,
   "id": "2bfa7e6e-578c-4a38-ae2e-47b33bc47776",
   "metadata": {},
   "outputs": [
    {
     "data": {
      "text/plain": [
       "[('Mercurial', 'Nike', 1256, 89),\n",
       " ('Xspeed', 'Adidas', 850, 47),\n",
       " ('Future', 'Puma', 820, 65),\n",
       " ('Tiempo', 'Nike', 759, 56),\n",
       " ('Ultra', 'Puma', 723, 45),\n",
       " ('PhantomGX', 'Nike', 642, 45),\n",
       " ('Copa', 'Adidas', 533, 35),\n",
       " ('One', 'Puma', 211, 18),\n",
       " ('PhantomVenom', 'Nike', 125, 11),\n",
       " ('Nemessiz', 'Adidas', 119, 8),\n",
       " ('Predator', 'Adidas', 98, 12),\n",
       " ('King', 'Puma', 97, 4),\n",
       " ('Magista', 'Nike', 92, 4),\n",
       " ('Premier', 'Nike', 78, 8),\n",
       " ('Ace', 'Adidas', 68, 6),\n",
       " ('Morelia', 'Mizuno', 57, 2),\n",
       " ('Furon', 'NewBalance', 47, 4),\n",
       " ('Ignitus', 'Mizuno', 38, 4)]"
      ]
     },
     "execution_count": 111,
     "metadata": {},
     "output_type": "execute_result"
    }
   ],
   "source": [
    "Brand_AS.collect()"
   ]
  },
  {
   "cell_type": "code",
   "execution_count": 102,
   "id": "dd2f2642-d1c5-4c98-8870-b32c97b741aa",
   "metadata": {},
   "outputs": [],
   "source": [
    "# 각 제품별 A/S 비율 출력\n",
    "AS_Percent = Brand_AS.map(lambda x:(x[0], x[1], x[3]/x[2]*100))\n",
    "AS_Percent_show = Brand_AS.map(lambda x:(x[0], x[1], format(x[3]/x[2]*100, \".1f\") + \"%\"))"
   ]
  },
  {
   "cell_type": "code",
   "execution_count": 103,
   "id": "4b57b579-c18b-438b-9dbb-524a60c4cf38",
   "metadata": {},
   "outputs": [
    {
     "data": {
      "text/plain": [
       "[('Mercurial', 'Nike', '7.1%'),\n",
       " ('Xspeed', 'Adidas', '5.5%'),\n",
       " ('Future', 'Puma', '7.9%'),\n",
       " ('Tiempo', 'Nike', '7.4%'),\n",
       " ('Ultra', 'Puma', '6.2%'),\n",
       " ('PhantomGX', 'Nike', '7.0%'),\n",
       " ('Copa', 'Adidas', '6.6%'),\n",
       " ('One', 'Puma', '8.5%'),\n",
       " ('PhantomVenom', 'Nike', '8.8%'),\n",
       " ('Nemessiz', 'Adidas', '6.7%'),\n",
       " ('Predator', 'Adidas', '12.2%'),\n",
       " ('King', 'Puma', '4.1%'),\n",
       " ('Magista', 'Nike', '4.3%'),\n",
       " ('Premier', 'Nike', '10.3%'),\n",
       " ('Ace', 'Adidas', '8.8%'),\n",
       " ('Morelia', 'Mizuno', '3.5%'),\n",
       " ('Furon', 'NewBalance', '8.5%'),\n",
       " ('Ignitus', 'Mizuno', '10.5%')]"
      ]
     },
     "execution_count": 103,
     "metadata": {},
     "output_type": "execute_result"
    }
   ],
   "source": [
    "AS_Percent_show.collect()"
   ]
  },
  {
   "cell_type": "code",
   "execution_count": 104,
   "id": "99f63bd4-1e64-4e18-88a2-270fc38561e3",
   "metadata": {},
   "outputs": [],
   "source": [
    "# 각 브랜드의 평균 A/S 비율 구하기\n",
    "AS_Percent_By_Brand = AS_Percent.map(lambda x:(x[1], x[2]))"
   ]
  },
  {
   "cell_type": "code",
   "execution_count": 105,
   "id": "590474d0-1793-4049-b806-f59755edb5e7",
   "metadata": {},
   "outputs": [
    {
     "data": {
      "text/plain": [
       "[('Nike', 7.085987261146497),\n",
       " ('Adidas', 5.529411764705882),\n",
       " ('Puma', 7.926829268292683),\n",
       " ('Nike', 7.378129117259552),\n",
       " ('Puma', 6.224066390041494),\n",
       " ('Nike', 7.009345794392523),\n",
       " ('Adidas', 6.566604127579738),\n",
       " ('Puma', 8.530805687203792),\n",
       " ('Nike', 8.799999999999999),\n",
       " ('Adidas', 6.722689075630252),\n",
       " ('Adidas', 12.244897959183673),\n",
       " ('Puma', 4.123711340206185),\n",
       " ('Nike', 4.3478260869565215),\n",
       " ('Nike', 10.256410256410255),\n",
       " ('Adidas', 8.823529411764707),\n",
       " ('Mizuno', 3.508771929824561),\n",
       " ('NewBalance', 8.51063829787234),\n",
       " ('Mizuno', 10.526315789473683)]"
      ]
     },
     "execution_count": 105,
     "metadata": {},
     "output_type": "execute_result"
    }
   ],
   "source": [
    "AS_Percent_By_Brand.collect()"
   ]
  },
  {
   "cell_type": "code",
   "execution_count": 106,
   "id": "fe50476e-3568-491f-b8a5-a5dfe2afa92f",
   "metadata": {},
   "outputs": [],
   "source": [
    "AS_average_count = AS_Percent_By_Brand.mapValues(lambda x: (round(x, 1), 1))\n",
    "#AS_Percent_By_Brand.collect()\n",
    "reduced_AS = AS_average_count.reduceByKey(lambda x, y: ((x[0] + y[0]), (x[1] + y[1])))                     "
   ]
  },
  {
   "cell_type": "code",
   "execution_count": 107,
   "id": "66d6350e-00a7-41a7-b510-66a3f6ac242f",
   "metadata": {},
   "outputs": [
    {
     "data": {
      "text/plain": [
       "[('Nike', (44.900000000000006, 6)),\n",
       " ('Adidas', (39.8, 5)),\n",
       " ('Puma', (26.700000000000003, 4)),\n",
       " ('Mizuno', (14.0, 2)),\n",
       " ('NewBalance', (8.5, 1))]"
      ]
     },
     "execution_count": 107,
     "metadata": {},
     "output_type": "execute_result"
    }
   ],
   "source": [
    "reduced_AS.collect() "
   ]
  },
  {
   "cell_type": "code",
   "execution_count": 108,
   "id": "6197914d-74be-4c4a-b686-b452bdeb60f2",
   "metadata": {},
   "outputs": [],
   "source": [
    "# 각 브랜드 별 평균 AS 비율 출력\n",
    "AS_average_result = reduced_AS.mapValues(lambda x: round(x[0]/x[1], 1))"
   ]
  },
  {
   "cell_type": "code",
   "execution_count": 109,
   "id": "40a216f3-e423-4996-8ed2-ad9cf02f2998",
   "metadata": {},
   "outputs": [
    {
     "data": {
      "text/plain": [
       "[('Nike', 7.5),\n",
       " ('Adidas', 8.0),\n",
       " ('Puma', 6.7),\n",
       " ('Mizuno', 7.0),\n",
       " ('NewBalance', 8.5)]"
      ]
     },
     "execution_count": 109,
     "metadata": {},
     "output_type": "execute_result"
    }
   ],
   "source": [
    "AS_average_result.collect()"
   ]
  }
 ],
 "metadata": {
  "kernelspec": {
   "display_name": "Python 3 (ipykernel)",
   "language": "python",
   "name": "python3"
  },
  "language_info": {
   "codemirror_mode": {
    "name": "ipython",
    "version": 3
   },
   "file_extension": ".py",
   "mimetype": "text/x-python",
   "name": "python",
   "nbconvert_exporter": "python",
   "pygments_lexer": "ipython3",
   "version": "3.9.13"
  }
 },
 "nbformat": 4,
 "nbformat_minor": 5
}
