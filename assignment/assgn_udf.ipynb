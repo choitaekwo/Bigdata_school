{
 "cells": [
  {
   "cell_type": "markdown",
   "id": "d71e4256-4b67-49fd-88e7-6864313668c1",
   "metadata": {},
   "source": [
    "## 과제: udf 등록 및 SQL 처리\n",
    "- 함수명: age_category(age)\n",
    "- age가 35살 미만: 'young'\n",
    "- age가 35살~59살: 'adult'\n",
    "- age가 60살 이상: 'senior'\n",
    "\n",
    "### 데이터프레임\n",
    "- 변수: name, age (예: '안현', 39)\n",
    "- SQL 출력 결과: name, age_category(age)\n",
    "- 제출 기한: 5.24(수)"
   ]
  },
  {
   "cell_type": "code",
   "execution_count": 2,
   "id": "b89bd56c-67df-4d2c-98bf-fd31af82a9a4",
   "metadata": {},
   "outputs": [],
   "source": [
    "import findspark\n",
    "findspark.init()\n",
    "\n",
    "from pyspark.sql import SparkSession\n",
    "spark = SparkSession.builder.master('local').appName('udf-assignment').getOrCreate()"
   ]
  },
  {
   "cell_type": "code",
   "execution_count": 3,
   "id": "5157372c-19d9-4737-a733-423e26d5794e",
   "metadata": {},
   "outputs": [],
   "source": [
    "names = [\n",
    "    ('Choi', 23), ('Park', 21), ('Kim', 35), ('Koo', 59), ('Yoon', 85),\n",
    "    ('Jin', 45), ('Hwang', 68), ('Jung', 26), ('Lee', 75), ('Han', 35)\n",
    "]"
   ]
  },
  {
   "cell_type": "code",
   "execution_count": 63,
   "id": "dff2aef7-fee4-4a0b-8132-a6a60620b02f",
   "metadata": {},
   "outputs": [],
   "source": [
    "schema = ['name', 'age']"
   ]
  },
  {
   "cell_type": "code",
   "execution_count": 64,
   "id": "ec6f29df-d03b-4241-a8ca-8d6cf9daeb4a",
   "metadata": {},
   "outputs": [],
   "source": [
    "df = spark.createDataFrame(names, schema)"
   ]
  },
  {
   "cell_type": "code",
   "execution_count": 65,
   "id": "5bbbdf2a-1acd-451a-b485-1c24cbcc23e8",
   "metadata": {},
   "outputs": [
    {
     "name": "stdout",
     "output_type": "stream",
     "text": [
      "+-----+---+\n",
      "| name|age|\n",
      "+-----+---+\n",
      "| Choi| 23|\n",
      "| Park| 21|\n",
      "|  Kim| 35|\n",
      "|  Koo| 59|\n",
      "| Yoon| 85|\n",
      "|  Jin| 45|\n",
      "|Hwang| 68|\n",
      "| Jung| 26|\n",
      "|  Lee| 75|\n",
      "|  Han| 35|\n",
      "+-----+---+\n",
      "\n"
     ]
    }
   ],
   "source": [
    "df.show()"
   ]
  },
  {
   "cell_type": "code",
   "execution_count": null,
   "id": "1d662a0a-3c07-43fd-b439-8c1ee726a7c9",
   "metadata": {},
   "outputs": [],
   "source": [
    "df.printSchema()"
   ]
  },
  {
   "cell_type": "code",
   "execution_count": 67,
   "id": "08402a54-b0f1-40b5-bda9-19250d8b812e",
   "metadata": {},
   "outputs": [],
   "source": [
    "df.createOrReplaceTempView('names')"
   ]
  },
  {
   "cell_type": "code",
   "execution_count": 68,
   "id": "e6e620e0-2bc6-4ca0-a005-0a1360d005c6",
   "metadata": {},
   "outputs": [],
   "source": [
    "# UDF 등록\n",
    "spark.udf.register('age_category', age_category)\n",
    "\n",
    "def age_category(age):\n",
    "    if(age < 35):\n",
    "        return \"young\"\n",
    "    if(age >= 35 and age < 60):\n",
    "        return \"adult\"\n",
    "    if(age >= 60):\n",
    "        return \"senior\""
   ]
  },
  {
   "cell_type": "code",
   "execution_count": 69,
   "id": "e692436f-48b9-41c0-b0c4-d874b4ebe024",
   "metadata": {},
   "outputs": [
    {
     "name": "stdout",
     "output_type": "stream",
     "text": [
      "+-----+---+-----------------+\n",
      "| name|age|age_category(age)|\n",
      "+-----+---+-----------------+\n",
      "| Choi| 23|            young|\n",
      "| Park| 21|            young|\n",
      "|  Kim| 35|            adult|\n",
      "|  Koo| 59|            adult|\n",
      "| Yoon| 85|           senior|\n",
      "|  Jin| 45|            adult|\n",
      "|Hwang| 68|           senior|\n",
      "| Jung| 26|            young|\n",
      "|  Lee| 75|           senior|\n",
      "|  Han| 35|            adult|\n",
      "+-----+---+-----------------+\n",
      "\n"
     ]
    }
   ],
   "source": [
    "spark.sql(\"SELECT name, age, age_category(age) FROM names\").show()"
   ]
  }
 ],
 "metadata": {
  "kernelspec": {
   "display_name": "Python 3 (ipykernel)",
   "language": "python",
   "name": "python3"
  },
  "language_info": {
   "codemirror_mode": {
    "name": "ipython",
    "version": 3
   },
   "file_extension": ".py",
   "mimetype": "text/x-python",
   "name": "python",
   "nbconvert_exporter": "python",
   "pygments_lexer": "ipython3",
   "version": "3.9.13"
  }
 },
 "nbformat": 4,
 "nbformat_minor": 5
}
