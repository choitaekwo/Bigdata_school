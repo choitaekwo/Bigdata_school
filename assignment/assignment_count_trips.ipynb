{
 "cells": [
  {
   "cell_type": "code",
   "execution_count": 1,
   "id": "f9209eba-9f22-464e-bfb3-eec4e333f88d",
   "metadata": {},
   "outputs": [],
   "source": [
    "# Load pyspark, pandas\n",
    "import findspark\n",
    "findspark.init()        # spark를 못 찾아서 사용\n",
    "\n",
    "from pyspark import SparkConf, SparkContext\n",
    "import pandas as pd"
   ]
  },
  {
   "cell_type": "code",
   "execution_count": 2,
   "id": "5851bef1-278b-4724-8324-e62d4d6a3a54",
   "metadata": {},
   "outputs": [],
   "source": [
    "# Configure Spark\n",
    "conf = SparkConf().setMaster(\"local\").setAppName(\"assignment-companies-trips\")     # mastr 클러스터 마스터의 정보   appName은 애플리케이션의 이름  (두 설정 필수)\n",
    "sc = SparkContext(conf = conf)                                                 # ex) local[2], local[*] 스레드 개수. 기본은 단일 스레드"
   ]
  },
  {
   "cell_type": "code",
   "execution_count": 3,
   "id": "2645489d-4315-4d31-b761-e90c198d5ca3",
   "metadata": {},
   "outputs": [],
   "source": [
    "# Dataset sample\n",
    "filename = \"fhvhv_tripdata_2020-03_short.csv\"   # 샘플 데이터"
   ]
  },
  {
   "cell_type": "code",
   "execution_count": 4,
   "id": "a4df225f-17e8-421c-9269-794d364025a1",
   "metadata": {},
   "outputs": [
    {
     "data": {
      "text/plain": [
       "defaultdict(int, {'HV0005': 1176143, 'HV0003': 3537637, 'HV0004': 147216})"
      ]
     },
     "execution_count": 4,
     "metadata": {},
     "output_type": "execute_result"
    }
   ],
   "source": [
    "# Data parsing\n",
    "file_rdd = sc.textFile(\"./data/\" + filename)     # 파일 rdd로 읽어오기   csv -> rdd\n",
    "\n",
    "header = file_rdd.first()    \n",
    "filtered_lines = file_rdd.filter(lambda row:row != header) # all lines excepting the header\n",
    "companies = filtered_lines.map(lambda row:row.split(\",\")[0])  # 행을 \",\"로 분리하고 분리한 것들 중 [0]번째 인덱스에 해당하는 부분\n",
    "result = companies.countByValue()     # 1,1,2,2,2,3,3,3,3  -> 1:2개, 2:3게, 3:4개 이런식으로 계산해줌\n",
    "result"
   ]
  },
  {
   "cell_type": "code",
   "execution_count": 5,
   "id": "6904bf47-2f8f-4384-8989-92522bda3541",
   "metadata": {},
   "outputs": [],
   "source": [
    "# save results as a csv file\n",
    "trips = pd.Series(result, name = \"trips\").to_csv(\"./data/trips_companies.csv\")"
   ]
  },
  {
   "cell_type": "code",
   "execution_count": 6,
   "id": "641f6c03-7820-4978-876a-8fa6e086dcb4",
   "metadata": {},
   "outputs": [
    {
     "data": {
      "image/png": "[encoded data removed]",
      "text/plain": [
       "<Figure size 640x480 with 1 Axes>"
      ]
     },
     "metadata": {},
     "output_type": "display_data"
    }
   ],
   "source": [
    "# Visulalize the results\n",
    "import matplotlib.pyplot as plt\n",
    "\n",
    "trips = pd.read_csv(\"./data/trips_companies.csv\")\n",
    "\n",
    "list_x = trips.iloc[:, 0]     # X축\n",
    "list_y = trips.iloc[:, 1]     # Y축 \n",
    "\n",
    "plt.bar(list_x, list_y, width = 0.4, color = 'Purple')    # 막대 그래프가 더 보기 편한 듯\n",
    "plt.show()"
   ]
  },
  {
   "cell_type": "code",
   "execution_count": null,
   "id": "bbac4475-083c-4abd-b40a-96d5635b8bd4",
   "metadata": {},
   "outputs": [],
   "source": []
  }
 ],
 "metadata": {
  "kernelspec": {
   "display_name": "Python 3 (ipykernel)",
   "language": "python",
   "name": "python3"
  },
  "language_info": {
   "codemirror_mode": {
    "name": "ipython",
    "version": 3
   },
   "file_extension": ".py",
   "mimetype": "text/x-python",
   "name": "python",
   "nbconvert_exporter": "python",
   "pygments_lexer": "ipython3",
   "version": "3.9.13"
  }
 },
 "nbformat": 4,
 "nbformat_minor": 5
}
